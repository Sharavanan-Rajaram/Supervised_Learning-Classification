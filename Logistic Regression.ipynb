{
 "cells": [
  {
   "cell_type": "markdown",
   "metadata": {},
   "source": [
    "# Logistic regression"
   ]
  },
  {
   "cell_type": "markdown",
   "metadata": {},
   "source": [
    "# Dataset:\n",
    "German Credit"
   ]
  },
  {
   "cell_type": "markdown",
   "metadata": {},
   "source": [
    "# Objective\n",
    "Estimate default probabilities using logistic regression"
   ]
  },
  {
   "cell_type": "markdown",
   "metadata": {},
   "source": [
    "# 1. Load Libraries and data"
   ]
  },
  {
   "cell_type": "code",
   "execution_count": 1,
   "metadata": {},
   "outputs": [],
   "source": [
    "import numpy as np\n",
    "import pandas as pd\n",
    "import seaborn as sns\n",
    "import matplotlib.pyplot as plt"
   ]
  },
  {
   "cell_type": "markdown",
   "metadata": {},
   "source": [
    "# 2. Check how many records do we have\n"
   ]
  },
  {
   "cell_type": "code",
   "execution_count": 5,
   "metadata": {},
   "outputs": [
    {
     "data": {
      "text/html": [
       "<div>\n",
       "<style scoped>\n",
       "    .dataframe tbody tr th:only-of-type {\n",
       "        vertical-align: middle;\n",
       "    }\n",
       "\n",
       "    .dataframe tbody tr th {\n",
       "        vertical-align: top;\n",
       "    }\n",
       "\n",
       "    .dataframe thead th {\n",
       "        text-align: right;\n",
       "    }\n",
       "</style>\n",
       "<table border=\"1\" class=\"dataframe\">\n",
       "  <thead>\n",
       "    <tr style=\"text-align: right;\">\n",
       "      <th></th>\n",
       "      <th>Creditability</th>\n",
       "      <th>CreditAmount</th>\n",
       "      <th>DurationOfCreditInMonths</th>\n",
       "    </tr>\n",
       "  </thead>\n",
       "  <tbody>\n",
       "    <tr>\n",
       "      <th>0</th>\n",
       "      <td>1</td>\n",
       "      <td>1049</td>\n",
       "      <td>18</td>\n",
       "    </tr>\n",
       "    <tr>\n",
       "      <th>1</th>\n",
       "      <td>1</td>\n",
       "      <td>2799</td>\n",
       "      <td>9</td>\n",
       "    </tr>\n",
       "    <tr>\n",
       "      <th>2</th>\n",
       "      <td>1</td>\n",
       "      <td>841</td>\n",
       "      <td>12</td>\n",
       "    </tr>\n",
       "    <tr>\n",
       "      <th>3</th>\n",
       "      <td>1</td>\n",
       "      <td>2122</td>\n",
       "      <td>12</td>\n",
       "    </tr>\n",
       "    <tr>\n",
       "      <th>4</th>\n",
       "      <td>1</td>\n",
       "      <td>2171</td>\n",
       "      <td>12</td>\n",
       "    </tr>\n",
       "  </tbody>\n",
       "</table>\n",
       "</div>"
      ],
      "text/plain": [
       "   Creditability  CreditAmount  DurationOfCreditInMonths\n",
       "0              1          1049                        18\n",
       "1              1          2799                         9\n",
       "2              1           841                        12\n",
       "3              1          2122                        12\n",
       "4              1          2171                        12"
      ]
     },
     "execution_count": 5,
     "metadata": {},
     "output_type": "execute_result"
    }
   ],
   "source": [
    "data=pd.read_excel('GermanCredit.xlsx')\n",
    "data.head()"
   ]
  },
  {
   "cell_type": "code",
   "execution_count": 6,
   "metadata": {},
   "outputs": [
    {
     "data": {
      "text/plain": [
       "(1000, 3)"
      ]
     },
     "execution_count": 6,
     "metadata": {},
     "output_type": "execute_result"
    }
   ],
   "source": [
    "data.shape"
   ]
  },
  {
   "cell_type": "code",
   "execution_count": 8,
   "metadata": {},
   "outputs": [
    {
     "name": "stdout",
     "output_type": "stream",
     "text": [
      "<class 'pandas.core.frame.DataFrame'>\n",
      "RangeIndex: 1000 entries, 0 to 999\n",
      "Data columns (total 3 columns):\n",
      " #   Column                    Non-Null Count  Dtype\n",
      "---  ------                    --------------  -----\n",
      " 0   Creditability             1000 non-null   int64\n",
      " 1   CreditAmount              1000 non-null   int64\n",
      " 2   DurationOfCreditInMonths  1000 non-null   int64\n",
      "dtypes: int64(3)\n",
      "memory usage: 23.6 KB\n"
     ]
    }
   ],
   "source": [
    "data.info()"
   ]
  },
  {
   "cell_type": "markdown",
   "metadata": {},
   "source": [
    "# 3. Plot Histogram for column 'CreditAmount'"
   ]
  },
  {
   "cell_type": "code",
   "execution_count": 12,
   "metadata": {},
   "outputs": [
    {
     "data": {
      "image/png": "[encoded data removed]",
      "text/plain": [
       "<Figure size 432x288 with 1 Axes>"
      ]
     },
     "metadata": {
      "needs_background": "light"
     },
     "output_type": "display_data"
    }
   ],
   "source": [
    "data['CreditAmount'].plot(kind='hist',bins=30)\n",
    "plt.show()"
   ]
  },
  {
   "cell_type": "markdown",
   "metadata": {},
   "source": [
    "# 3b. Create creditability dataframe"
   ]
  },
  {
   "cell_type": "code",
   "execution_count": 13,
   "metadata": {},
   "outputs": [
    {
     "data": {
      "text/plain": [
       "1    700\n",
       "0    300\n",
       "Name: Creditability, dtype: int64"
      ]
     },
     "execution_count": 13,
     "metadata": {},
     "output_type": "execute_result"
    }
   ],
   "source": [
    "data['Creditability'].value_counts()"
   ]
  },
  {
   "cell_type": "code",
   "execution_count": 34,
   "metadata": {},
   "outputs": [
    {
     "data": {
      "text/plain": [
       "Creditability               0\n",
       "CreditAmount                0\n",
       "DurationOfCreditInMonths    0\n",
       "dtype: int64"
      ]
     },
     "execution_count": 34,
     "metadata": {},
     "output_type": "execute_result"
    }
   ],
   "source": [
    "data.isna().sum()"
   ]
  },
  {
   "cell_type": "markdown",
   "metadata": {},
   "source": [
    "# 4. Concatenate the above 2 dataframes and give the total of Credibiliity0 and Credibiliity1"
   ]
  },
  {
   "cell_type": "raw",
   "metadata": {},
   "source": [
    "Data file which was given itself has concatenated values."
   ]
  },
  {
   "cell_type": "markdown",
   "metadata": {},
   "source": [
    "# 5. Plot Creditworthiness plot for Credibility == 0 and also ==1"
   ]
  },
  {
   "cell_type": "code",
   "execution_count": 48,
   "metadata": {},
   "outputs": [
    {
     "data": {
      "text/plain": [
       "1    700\n",
       "0    300\n",
       "Name: Creditability, dtype: int64"
      ]
     },
     "execution_count": 48,
     "metadata": {},
     "output_type": "execute_result"
    }
   ],
   "source": [
    "data['Creditability'].value_counts()"
   ]
  },
  {
   "cell_type": "code",
   "execution_count": 50,
   "metadata": {},
   "outputs": [
    {
     "data": {
      "image/png": "[encoded data removed]",
      "text/plain": [
       "<Figure size 432x288 with 1 Axes>"
      ]
     },
     "metadata": {
      "needs_background": "light"
     },
     "output_type": "display_data"
    }
   ],
   "source": [
    "data['Creditability'].value_counts().plot(kind='bar')\n",
    "plt.show()"
   ]
  },
  {
   "cell_type": "markdown",
   "metadata": {},
   "source": [
    "# 6. Prepare input data for the model"
   ]
  },
  {
   "cell_type": "code",
   "execution_count": 14,
   "metadata": {},
   "outputs": [],
   "source": [
    "inp=data.drop('Creditability',axis=1)\n",
    "out=data['Creditability']"
   ]
  },
  {
   "cell_type": "markdown",
   "metadata": {},
   "source": [
    "# 7. Fit logistic regression model"
   ]
  },
  {
   "cell_type": "code",
   "execution_count": 16,
   "metadata": {},
   "outputs": [],
   "source": [
    "from sklearn.linear_model import LogisticRegression\n",
    "from sklearn.model_selection import train_test_split"
   ]
  },
  {
   "cell_type": "code",
   "execution_count": 17,
   "metadata": {},
   "outputs": [],
   "source": [
    "xtrain,xtest,ytrain,ytest=train_test_split(inp,out,test_size=0.3,random_state=1)"
   ]
  },
  {
   "cell_type": "code",
   "execution_count": 19,
   "metadata": {},
   "outputs": [
    {
     "data": {
      "text/plain": [
       "LogisticRegression(C=1.0, class_weight=None, dual=False, fit_intercept=True,\n",
       "                   intercept_scaling=1, l1_ratio=None, max_iter=100,\n",
       "                   multi_class='auto', n_jobs=None, penalty='l2',\n",
       "                   random_state=None, solver='lbfgs', tol=0.0001, verbose=0,\n",
       "                   warm_start=False)"
      ]
     },
     "execution_count": 19,
     "metadata": {},
     "output_type": "execute_result"
    }
   ],
   "source": [
    "logReg=LogisticRegression()\n",
    "logReg=logReg.fit(xtrain,ytrain)\n",
    "logReg"
   ]
  },
  {
   "cell_type": "markdown",
   "metadata": {},
   "source": [
    "# 8. Test accuracy calculation"
   ]
  },
  {
   "cell_type": "code",
   "execution_count": 20,
   "metadata": {},
   "outputs": [],
   "source": [
    "ypred=logReg.predict(xtest)"
   ]
  },
  {
   "cell_type": "code",
   "execution_count": 21,
   "metadata": {},
   "outputs": [],
   "source": [
    "from sklearn.metrics import accuracy_score"
   ]
  },
  {
   "cell_type": "code",
   "execution_count": 22,
   "metadata": {},
   "outputs": [
    {
     "data": {
      "text/plain": [
       "0.6933333333333334"
      ]
     },
     "execution_count": 22,
     "metadata": {},
     "output_type": "execute_result"
    }
   ],
   "source": [
    "accuracy_score(ytest,ypred)"
   ]
  },
  {
   "cell_type": "markdown",
   "metadata": {},
   "source": [
    "# 9. Build a confusion matrix"
   ]
  },
  {
   "cell_type": "code",
   "execution_count": 23,
   "metadata": {},
   "outputs": [],
   "source": [
    "from sklearn.metrics import confusion_matrix"
   ]
  },
  {
   "cell_type": "code",
   "execution_count": 24,
   "metadata": {},
   "outputs": [
    {
     "data": {
      "text/plain": [
       "array([[ 10,  81],\n",
       "       [ 11, 198]], dtype=int64)"
      ]
     },
     "execution_count": 24,
     "metadata": {},
     "output_type": "execute_result"
    }
   ],
   "source": [
    "cm=confusion_matrix(ytest,ypred)\n",
    "cm"
   ]
  },
  {
   "cell_type": "code",
   "execution_count": 25,
   "metadata": {},
   "outputs": [
    {
     "data": {
      "text/plain": [
       "<matplotlib.axes._subplots.AxesSubplot at 0x17dd5f4af88>"
      ]
     },
     "execution_count": 25,
     "metadata": {},
     "output_type": "execute_result"
    },
    {
     "data": {
      "image/png": "[encoded data removed]",
      "text/plain": [
       "<Figure size 432x288 with 2 Axes>"
      ]
     },
     "metadata": {
      "needs_background": "light"
     },
     "output_type": "display_data"
    }
   ],
   "source": [
    "sns.heatmap(cm,annot=True)"
   ]
  },
  {
   "cell_type": "markdown",
   "metadata": {},
   "source": [
    "# 10.  Predicted Probability distribution Plots for Defaults and Non Defaults"
   ]
  },
  {
   "cell_type": "code",
   "execution_count": 35,
   "metadata": {},
   "outputs": [
    {
     "data": {
      "text/plain": [
       "array([[0.33224476, 0.66775524],\n",
       "       [0.19861238, 0.80138762],\n",
       "       [0.23216301, 0.76783699],\n",
       "       [0.24275314, 0.75724686],\n",
       "       [0.26397677, 0.73602323],\n",
       "       [0.5817892 , 0.4182108 ],\n",
       "       [0.21054248, 0.78945752],\n",
       "       [0.58810827, 0.41189173],\n",
       "       [0.24258872, 0.75741128],\n",
       "       [0.30753922, 0.69246078],\n",
       "       [0.18562343, 0.81437657],\n",
       "       [0.32418036, 0.67581964],\n",
       "       [0.48991616, 0.51008384],\n",
       "       [0.21279563, 0.78720437],\n",
       "       [0.3638877 , 0.6361123 ],\n",
       "       [0.26351216, 0.73648784],\n",
       "       [0.30962114, 0.69037886],\n",
       "       [0.20586571, 0.79413429],\n",
       "       [0.44177798, 0.55822202],\n",
       "       [0.19009263, 0.80990737],\n",
       "       [0.29280932, 0.70719068],\n",
       "       [0.43757492, 0.56242508],\n",
       "       [0.36116552, 0.63883448],\n",
       "       [0.18845483, 0.81154517],\n",
       "       [0.26526832, 0.73473168],\n",
       "       [0.31503254, 0.68496746],\n",
       "       [0.30820867, 0.69179133],\n",
       "       [0.54504631, 0.45495369],\n",
       "       [0.22919283, 0.77080717],\n",
       "       [0.2857509 , 0.7142491 ],\n",
       "       [0.32320565, 0.67679435],\n",
       "       [0.26541838, 0.73458162],\n",
       "       [0.37222467, 0.62777533],\n",
       "       [0.22333606, 0.77666394],\n",
       "       [0.27638944, 0.72361056],\n",
       "       [0.31327528, 0.68672472],\n",
       "       [0.28579762, 0.71420238],\n",
       "       [0.24467824, 0.75532176],\n",
       "       [0.30849265, 0.69150735],\n",
       "       [0.33103189, 0.66896811],\n",
       "       [0.25941428, 0.74058572],\n",
       "       [0.22246752, 0.77753248],\n",
       "       [0.225458  , 0.774542  ],\n",
       "       [0.24047716, 0.75952284],\n",
       "       [0.28380222, 0.71619778],\n",
       "       [0.22073053, 0.77926947],\n",
       "       [0.17718529, 0.82281471],\n",
       "       [0.30919436, 0.69080564],\n",
       "       [0.32719147, 0.67280853],\n",
       "       [0.3102263 , 0.6897737 ],\n",
       "       [0.20447219, 0.79552781],\n",
       "       [0.24397143, 0.75602857],\n",
       "       [0.31456133, 0.68543867],\n",
       "       [0.18612718, 0.81387282],\n",
       "       [0.22381641, 0.77618359],\n",
       "       [0.65014191, 0.34985809],\n",
       "       [0.54154619, 0.45845381],\n",
       "       [0.26489542, 0.73510458],\n",
       "       [0.27301515, 0.72698485],\n",
       "       [0.30843939, 0.69156061],\n",
       "       [0.18588462, 0.81411538],\n",
       "       [0.17460971, 0.82539029],\n",
       "       [0.20434362, 0.79565638],\n",
       "       [0.42778997, 0.57221003],\n",
       "       [0.31000819, 0.68999181],\n",
       "       [0.26549546, 0.73450454],\n",
       "       [0.24597696, 0.75402304],\n",
       "       [0.21042147, 0.78957853],\n",
       "       [0.26372218, 0.73627782],\n",
       "       [0.27068002, 0.72931998],\n",
       "       [0.53922082, 0.46077918],\n",
       "       [0.33098121, 0.66901879],\n",
       "       [0.66396147, 0.33603853],\n",
       "       [0.24046196, 0.75953804],\n",
       "       [0.26548735, 0.73451265],\n",
       "       [0.18731831, 0.81268169],\n",
       "       [0.41873961, 0.58126039],\n",
       "       [0.28421261, 0.71578739],\n",
       "       [0.26737007, 0.73262993],\n",
       "       [0.28974941, 0.71025059],\n",
       "       [0.2476976 , 0.7523024 ],\n",
       "       [0.31473631, 0.68526369],\n",
       "       [0.30672898, 0.69327102],\n",
       "       [0.22215817, 0.77784183],\n",
       "       [0.22164446, 0.77835554],\n",
       "       [0.28869055, 0.71130945],\n",
       "       [0.35160908, 0.64839092],\n",
       "       [0.35326565, 0.64673435],\n",
       "       [0.36585414, 0.63414586],\n",
       "       [0.22887321, 0.77112679],\n",
       "       [0.54217116, 0.45782884],\n",
       "       [0.29144051, 0.70855949],\n",
       "       [0.40919022, 0.59080978],\n",
       "       [0.29077072, 0.70922928],\n",
       "       [0.22015131, 0.77984869],\n",
       "       [0.26289886, 0.73710114],\n",
       "       [0.23617442, 0.76382558],\n",
       "       [0.30670244, 0.69329756],\n",
       "       [0.21416154, 0.78583846],\n",
       "       [0.22243153, 0.77756847],\n",
       "       [0.30915881, 0.69084119],\n",
       "       [0.5468205 , 0.4531795 ],\n",
       "       [0.22075558, 0.77924442],\n",
       "       [0.22365741, 0.77634259],\n",
       "       [0.2225827 , 0.7774173 ],\n",
       "       [0.3087679 , 0.6912321 ],\n",
       "       [0.40462104, 0.59537896],\n",
       "       [0.19126546, 0.80873454],\n",
       "       [0.28851904, 0.71148096],\n",
       "       [0.22082001, 0.77917999],\n",
       "       [0.27339523, 0.72660477],\n",
       "       [0.31205463, 0.68794537],\n",
       "       [0.50500397, 0.49499603],\n",
       "       [0.4155426 , 0.5844574 ],\n",
       "       [0.22168754, 0.77831246],\n",
       "       [0.31580976, 0.68419024],\n",
       "       [0.47080238, 0.52919762],\n",
       "       [0.20294   , 0.79706   ],\n",
       "       [0.42423888, 0.57576112],\n",
       "       [0.35822334, 0.64177666],\n",
       "       [0.20444512, 0.79555488],\n",
       "       [0.5218161 , 0.4781839 ],\n",
       "       [0.22591976, 0.77408024],\n",
       "       [0.222806  , 0.777194  ],\n",
       "       [0.18636367, 0.81363633],\n",
       "       [0.24326601, 0.75673399],\n",
       "       [0.3056152 , 0.6943848 ],\n",
       "       [0.31367826, 0.68632174],\n",
       "       [0.18933783, 0.81066217],\n",
       "       [0.18485097, 0.81514903],\n",
       "       [0.22582517, 0.77417483],\n",
       "       [0.24748056, 0.75251944],\n",
       "       [0.18527771, 0.81472229],\n",
       "       [0.22129291, 0.77870709],\n",
       "       [0.33505788, 0.66494212],\n",
       "       [0.52785037, 0.47214963],\n",
       "       [0.2751553 , 0.7248447 ],\n",
       "       [0.41162184, 0.58837816],\n",
       "       [0.2655685 , 0.7344315 ],\n",
       "       [0.24226393, 0.75773607],\n",
       "       [0.30553573, 0.69446427],\n",
       "       [0.31297547, 0.68702453],\n",
       "       [0.30693696, 0.69306304],\n",
       "       [0.31013727, 0.68986273],\n",
       "       [0.18476947, 0.81523053],\n",
       "       [0.18721064, 0.81278936],\n",
       "       [0.31870751, 0.68129249],\n",
       "       [0.22287806, 0.77712194],\n",
       "       [0.38782516, 0.61217484],\n",
       "       [0.22222649, 0.77777351],\n",
       "       [0.18766378, 0.81233622],\n",
       "       [0.53266994, 0.46733006],\n",
       "       [0.26208123, 0.73791877],\n",
       "       [0.31188492, 0.68811508],\n",
       "       [0.2242251 , 0.7757749 ],\n",
       "       [0.41739824, 0.58260176],\n",
       "       [0.24221428, 0.75778572],\n",
       "       [0.18458151, 0.81541849],\n",
       "       [0.2432009 , 0.7567991 ],\n",
       "       [0.28567023, 0.71432977],\n",
       "       [0.23140565, 0.76859435],\n",
       "       [0.27574493, 0.72425507],\n",
       "       [0.32426697, 0.67573303],\n",
       "       [0.27000695, 0.72999305],\n",
       "       [0.44093668, 0.55906332],\n",
       "       [0.24576033, 0.75423967],\n",
       "       [0.18894853, 0.81105147],\n",
       "       [0.28143935, 0.71856065],\n",
       "       [0.28885228, 0.71114772],\n",
       "       [0.41021747, 0.58978253],\n",
       "       [0.26347985, 0.73652015],\n",
       "       [0.41687215, 0.58312785],\n",
       "       [0.22399718, 0.77600282],\n",
       "       [0.24268813, 0.75731187],\n",
       "       [0.39534457, 0.60465543],\n",
       "       [0.36992523, 0.63007477],\n",
       "       [0.22689637, 0.77310363],\n",
       "       [0.332822  , 0.667178  ],\n",
       "       [0.43490393, 0.56509607],\n",
       "       [0.2630763 , 0.7369237 ],\n",
       "       [0.21622059, 0.78377941],\n",
       "       [0.2205731 , 0.7794269 ],\n",
       "       [0.18478514, 0.81521486],\n",
       "       [0.26214159, 0.73785841],\n",
       "       [0.31116203, 0.68883797],\n",
       "       [0.18550394, 0.81449606],\n",
       "       [0.36025875, 0.63974125],\n",
       "       [0.3653096 , 0.6346904 ],\n",
       "       [0.41827885, 0.58172115],\n",
       "       [0.26524804, 0.73475196],\n",
       "       [0.30687058, 0.69312942],\n",
       "       [0.52748739, 0.47251261],\n",
       "       [0.36759845, 0.63240155],\n",
       "       [0.24749665, 0.75250335],\n",
       "       [0.18483216, 0.81516784],\n",
       "       [0.37085954, 0.62914046],\n",
       "       [0.30955888, 0.69044112],\n",
       "       [0.22548344, 0.77451656],\n",
       "       [0.5323799 , 0.4676201 ],\n",
       "       [0.24290999, 0.75709001],\n",
       "       [0.67951192, 0.32048808],\n",
       "       [0.24109771, 0.75890229],\n",
       "       [0.53397488, 0.46602512],\n",
       "       [0.26517506, 0.73482494],\n",
       "       [0.45590544, 0.54409456],\n",
       "       [0.22637125, 0.77362875],\n",
       "       [0.23838904, 0.76161096],\n",
       "       [0.30699008, 0.69300992],\n",
       "       [0.36383399, 0.63616601],\n",
       "       [0.28404269, 0.71595731],\n",
       "       [0.18759084, 0.81240916],\n",
       "       [0.18775261, 0.81224739],\n",
       "       [0.35436923, 0.64563077],\n",
       "       [0.21115426, 0.78884574],\n",
       "       [0.28678815, 0.71321185],\n",
       "       [0.2027886 , 0.7972114 ],\n",
       "       [0.45334163, 0.54665837],\n",
       "       [0.22476481, 0.77523519],\n",
       "       [0.26418765, 0.73581235],\n",
       "       [0.22244952, 0.77755048],\n",
       "       [0.60921829, 0.39078171],\n",
       "       [0.22360684, 0.77639316],\n",
       "       [0.3244904 , 0.6755096 ],\n",
       "       [0.31723659, 0.68276341],\n",
       "       [0.37111687, 0.62888313],\n",
       "       [0.26816962, 0.73183038],\n",
       "       [0.26359292, 0.73640708],\n",
       "       [0.32611148, 0.67388852],\n",
       "       [0.26159063, 0.73840937],\n",
       "       [0.26685687, 0.73314313],\n",
       "       [0.48409015, 0.51590985],\n",
       "       [0.26939226, 0.73060774],\n",
       "       [0.42126868, 0.57873132],\n",
       "       [0.42260331, 0.57739669],\n",
       "       [0.36646256, 0.63353744],\n",
       "       [0.22146146, 0.77853854],\n",
       "       [0.20121566, 0.79878434],\n",
       "       [0.20975854, 0.79024146],\n",
       "       [0.26190825, 0.73809175],\n",
       "       [0.18960942, 0.81039058],\n",
       "       [0.24444761, 0.75555239],\n",
       "       [0.23153149, 0.76846851],\n",
       "       [0.21165818, 0.78834182],\n",
       "       [0.26825946, 0.73174054],\n",
       "       [0.31816113, 0.68183887],\n",
       "       [0.20182497, 0.79817503],\n",
       "       [0.68073857, 0.31926143],\n",
       "       [0.27223126, 0.72776874],\n",
       "       [0.18828942, 0.81171058],\n",
       "       [0.18456272, 0.81543728],\n",
       "       [0.22180244, 0.77819756],\n",
       "       [0.2229105 , 0.7770895 ],\n",
       "       [0.22279159, 0.77720841],\n",
       "       [0.19727697, 0.80272303],\n",
       "       [0.31163493, 0.68836507],\n",
       "       [0.48583105, 0.51416895],\n",
       "       [0.26391614, 0.73608386],\n",
       "       [0.30676438, 0.69323562],\n",
       "       [0.26221403, 0.73778597],\n",
       "       [0.31391122, 0.68608878],\n",
       "       [0.42956833, 0.57043167],\n",
       "       [0.31951671, 0.68048329],\n",
       "       [0.31668705, 0.68331295],\n",
       "       [0.22618809, 0.77381191],\n",
       "       [0.44713093, 0.55286907],\n",
       "       [0.31301126, 0.68698874],\n",
       "       [0.31759721, 0.68240279],\n",
       "       [0.48708447, 0.51291553],\n",
       "       [0.25806215, 0.74193785],\n",
       "       [0.22334688, 0.77665312],\n",
       "       [0.26537376, 0.73462624],\n",
       "       [0.22339019, 0.77660981],\n",
       "       [0.42255254, 0.57744746],\n",
       "       [0.31042669, 0.68957331],\n",
       "       [0.32296449, 0.67703551],\n",
       "       [0.20411369, 0.79588631],\n",
       "       [0.3071096 , 0.6928904 ],\n",
       "       [0.42619154, 0.57380846],\n",
       "       [0.53939141, 0.46060859],\n",
       "       [0.22335049, 0.77664951],\n",
       "       [0.42935422, 0.57064578],\n",
       "       [0.44867956, 0.55132044],\n",
       "       [0.23059993, 0.76940007],\n",
       "       [0.55401143, 0.44598857],\n",
       "       [0.44864868, 0.55135132],\n",
       "       [0.29790634, 0.70209366],\n",
       "       [0.44897293, 0.55102707],\n",
       "       [0.25266202, 0.74733798],\n",
       "       [0.19163906, 0.80836094],\n",
       "       [0.31045786, 0.68954214],\n",
       "       [0.32002358, 0.67997642],\n",
       "       [0.42905858, 0.57094142],\n",
       "       [0.18448758, 0.81551242],\n",
       "       [0.31754762, 0.68245238],\n",
       "       [0.21066008, 0.78933992],\n",
       "       [0.22709716, 0.77290284],\n",
       "       [0.34564191, 0.65435809],\n",
       "       [0.31331557, 0.68668443],\n",
       "       [0.20883921, 0.79116079],\n",
       "       [0.22079137, 0.77920863]])"
      ]
     },
     "execution_count": 35,
     "metadata": {},
     "output_type": "execute_result"
    }
   ],
   "source": [
    "yprob1=logReg.predict_proba(xtest)\n",
    "yprob1"
   ]
  },
  {
   "cell_type": "code",
   "execution_count": 40,
   "metadata": {},
   "outputs": [],
   "source": [
    "non_default=logReg.predict_proba(xtest)[:,0]\n"
   ]
  },
  {
   "cell_type": "code",
   "execution_count": 41,
   "metadata": {},
   "outputs": [
    {
     "data": {
      "image/png": "[encoded data removed]",
      "text/plain": [
       "<Figure size 432x288 with 1 Axes>"
      ]
     },
     "metadata": {
      "needs_background": "light"
     },
     "output_type": "display_data"
    }
   ],
   "source": [
    "sns.distplot(non_default)\n",
    "plt.show()"
   ]
  },
  {
   "cell_type": "code",
   "execution_count": 45,
   "metadata": {},
   "outputs": [],
   "source": [
    "default=logReg.predict_proba(xtest)[:,1]\n"
   ]
  },
  {
   "cell_type": "code",
   "execution_count": 46,
   "metadata": {},
   "outputs": [
    {
     "data": {
      "image/png": "[encoded data removed]",
      "text/plain": [
       "<Figure size 432x288 with 1 Axes>"
      ]
     },
     "metadata": {
      "needs_background": "light"
     },
     "output_type": "display_data"
    }
   ],
   "source": [
    "sns.distplot(default)\n",
    "plt.show()"
   ]
  },
  {
   "cell_type": "code",
   "execution_count": null,
   "metadata": {},
   "outputs": [],
   "source": []
  }
 ],
 "metadata": {
  "kernelspec": {
   "display_name": "Python 3",
   "language": "python",
   "name": "python3"
  },
  "language_info": {
   "codemirror_mode": {
    "name": "ipython",
    "version": 3
   },
   "file_extension": ".py",
   "mimetype": "text/x-python",
   "name": "python",
   "nbconvert_exporter": "python",
   "pygments_lexer": "ipython3",
   "version": "3.7.6"
  }
 },
 "nbformat": 4,
 "nbformat_minor": 2
}
