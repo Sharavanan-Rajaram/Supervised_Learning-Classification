{
 "cells": [
  {
   "cell_type": "markdown",
   "metadata": {},
   "source": [
    "Attrition: Whether employees are still with the company or whether they’ve gone to work somewhere else.\n",
    "\n",
    "Age: 18 to 60 years old\n",
    "\n",
    "Gender: Female or Male\n",
    "\n",
    "Department: Research & Development, Sales, Human Resources.\n",
    "\n",
    "BusinessTravel: Travel_Rarely, Travel_Frequently, Non-Travel.\n",
    "\n",
    "DistanceFromHome: Distance between the company and their home in miles.\n",
    "\n",
    "MonthlyIncome: Employees' numeric monthly income.\n",
    "\n",
    "MaritalStatus: Married, Single, Divorced.\n",
    "\n",
    "Education: 1 'Below College' 2 'College' 3 'Bachelor' 4 'Master' 5 'Doctor'.\n",
    "\n",
    "EducationField: Life Sciences， Medical， Marketing，Technical Degree，Other.\n",
    "\n",
    "EnvironmentSatisfaction: 1 'Low' 2 'Medium' 3 'High' 4 'Very High'.\n",
    "\n",
    "RelationshipSatisfaction: 1 'Low' 2 'Medium' 3 'High' 4 'Very High'.\n",
    "\n",
    "JobInvolvement: 1 'Low' 2 'Medium' 3 'High' 4 'Very High'.\n",
    "\n",
    "JobRole: Sales Executive，Research Science, Laboratory Tec, Manufacturing, Healthcare Rep, etc\n",
    "\n",
    "JobSatisfaction: 1 'Low' 2 'Medium' 3 'High' 4 'Very High'.\n",
    "\n",
    "OverTime: Whether they work overtime or not.\n",
    "\n",
    "NumCompaniesWorked: Number of companies they worked for before joinging IBM.\n",
    "\n",
    "PerformanceRating: 1 'Low' 2 'Good' 3 'Excellent' 4 'Outstanding'.\n",
    "\n",
    "YearsAtCompany: Years they worked for IBM.\n",
    "\n",
    "WorkLifeBalance: 1 'Bad' 2 'Good' 3 'Better' 4 'Best'.\n",
    "\n",
    "YearsSinceLastPromotion: Years passed since their last promotion."
   ]
  },
  {
   "cell_type": "code",
   "execution_count": 1,
   "metadata": {},
   "outputs": [],
   "source": [
    "import pandas as pd\n",
    "import numpy as np\n",
    "import seaborn as sb\n",
    "import matplotlib.pyplot as plt\n",
    "import warnings\n",
    "warnings.filterwarnings(\"ignore\")"
   ]
  },
  {
   "cell_type": "code",
   "execution_count": 2,
   "metadata": {},
   "outputs": [
    {
     "data": {
      "text/html": [
       "<div>\n",
       "<style scoped>\n",
       "    .dataframe tbody tr th:only-of-type {\n",
       "        vertical-align: middle;\n",
       "    }\n",
       "\n",
       "    .dataframe tbody tr th {\n",
       "        vertical-align: top;\n",
       "    }\n",
       "\n",
       "    .dataframe thead th {\n",
       "        text-align: right;\n",
       "    }\n",
       "</style>\n",
       "<table border=\"1\" class=\"dataframe\">\n",
       "  <thead>\n",
       "    <tr style=\"text-align: right;\">\n",
       "      <th></th>\n",
       "      <th>Age</th>\n",
       "      <th>Attrition</th>\n",
       "      <th>BusinessTravel</th>\n",
       "      <th>Department</th>\n",
       "      <th>DistanceFromHome</th>\n",
       "      <th>EducationField</th>\n",
       "      <th>EnvironmentSatisfaction</th>\n",
       "      <th>Gender</th>\n",
       "      <th>JobInvolvement</th>\n",
       "      <th>JobLevel</th>\n",
       "      <th>JobRole</th>\n",
       "      <th>JobSatisfaction</th>\n",
       "      <th>MonthlyIncome</th>\n",
       "      <th>NumCompaniesWorked</th>\n",
       "      <th>OverTime</th>\n",
       "      <th>PercentSalaryHike</th>\n",
       "      <th>PerformanceRating</th>\n",
       "      <th>YearsAtCompany</th>\n",
       "    </tr>\n",
       "  </thead>\n",
       "  <tbody>\n",
       "    <tr>\n",
       "      <th>0</th>\n",
       "      <td>33.0</td>\n",
       "      <td>Yes</td>\n",
       "      <td>Travel_Frequently</td>\n",
       "      <td>NaN</td>\n",
       "      <td>3.0</td>\n",
       "      <td>Life Sciences</td>\n",
       "      <td>1</td>\n",
       "      <td>Male</td>\n",
       "      <td>3</td>\n",
       "      <td>1</td>\n",
       "      <td>Research Scientist</td>\n",
       "      <td>1.0</td>\n",
       "      <td>3348.0</td>\n",
       "      <td>1</td>\n",
       "      <td>Yes</td>\n",
       "      <td>11</td>\n",
       "      <td>3</td>\n",
       "      <td>10</td>\n",
       "    </tr>\n",
       "    <tr>\n",
       "      <th>1</th>\n",
       "      <td>NaN</td>\n",
       "      <td>Yes</td>\n",
       "      <td>Travel_Rarely</td>\n",
       "      <td>Sales</td>\n",
       "      <td>4.0</td>\n",
       "      <td>Medical</td>\n",
       "      <td>4</td>\n",
       "      <td>Male</td>\n",
       "      <td>1</td>\n",
       "      <td>3</td>\n",
       "      <td>Sales Executive</td>\n",
       "      <td>4.0</td>\n",
       "      <td>NaN</td>\n",
       "      <td>1</td>\n",
       "      <td>No</td>\n",
       "      <td>11</td>\n",
       "      <td>3</td>\n",
       "      <td>14</td>\n",
       "    </tr>\n",
       "  </tbody>\n",
       "</table>\n",
       "</div>"
      ],
      "text/plain": [
       "    Age Attrition     BusinessTravel Department  DistanceFromHome  \\\n",
       "0  33.0       Yes  Travel_Frequently        NaN               3.0   \n",
       "1   NaN       Yes      Travel_Rarely      Sales               4.0   \n",
       "\n",
       "  EducationField  EnvironmentSatisfaction Gender  JobInvolvement  JobLevel  \\\n",
       "0  Life Sciences                        1   Male               3         1   \n",
       "1        Medical                        4   Male               1         3   \n",
       "\n",
       "              JobRole  JobSatisfaction  MonthlyIncome  NumCompaniesWorked  \\\n",
       "0  Research Scientist              1.0         3348.0                   1   \n",
       "1     Sales Executive              4.0            NaN                   1   \n",
       "\n",
       "  OverTime  PercentSalaryHike  PerformanceRating  YearsAtCompany  \n",
       "0      Yes                 11                  3              10  \n",
       "1       No                 11                  3              14  "
      ]
     },
     "execution_count": 2,
     "metadata": {},
     "output_type": "execute_result"
    }
   ],
   "source": [
    "hrdata=pd.read_csv('HR_attrition.csv')\n",
    "hrdata.head(2)"
   ]
  },
  {
   "cell_type": "code",
   "execution_count": 3,
   "metadata": {},
   "outputs": [
    {
     "data": {
      "text/plain": [
       "Age                         9.493671\n",
       "Attrition                   0.000000\n",
       "BusinessTravel              6.329114\n",
       "Department                 11.075949\n",
       "DistanceFromHome           11.392405\n",
       "EducationField              0.000000\n",
       "EnvironmentSatisfaction     0.000000\n",
       "Gender                      0.000000\n",
       "JobInvolvement              0.000000\n",
       "JobLevel                    0.000000\n",
       "JobRole                     0.000000\n",
       "JobSatisfaction             2.531646\n",
       "MonthlyIncome               7.594937\n",
       "NumCompaniesWorked          0.000000\n",
       "OverTime                    0.000000\n",
       "PercentSalaryHike           0.000000\n",
       "PerformanceRating           0.000000\n",
       "YearsAtCompany              0.000000\n",
       "dtype: float64"
      ]
     },
     "execution_count": 3,
     "metadata": {},
     "output_type": "execute_result"
    }
   ],
   "source": [
    "#1. Missing Value Treatment\n",
    "hrdata.isnull().sum()/len(hrdata)*100"
   ]
  },
  {
   "cell_type": "code",
   "execution_count": 4,
   "metadata": {},
   "outputs": [
    {
     "data": {
      "text/plain": [
       "<matplotlib.axes._subplots.AxesSubplot at 0x163aa5c1fc8>"
      ]
     },
     "execution_count": 4,
     "metadata": {},
     "output_type": "execute_result"
    },
    {
     "data": {
      "image/png": "[encoded data removed]",
      "text/plain": [
       "<Figure size 432x288 with 1 Axes>"
      ]
     },
     "metadata": {
      "needs_background": "light"
     },
     "output_type": "display_data"
    }
   ],
   "source": [
    "sb.boxplot(x=hrdata['JobLevel'],y=hrdata['Age'])"
   ]
  },
  {
   "cell_type": "code",
   "execution_count": 5,
   "metadata": {},
   "outputs": [],
   "source": [
    "hrdata['Age']=hrdata['Age'].fillna(hrdata.groupby('JobLevel')['Age'].transform('median'))"
   ]
  },
  {
   "cell_type": "code",
   "execution_count": 6,
   "metadata": {},
   "outputs": [
    {
     "data": {
      "text/plain": [
       "<matplotlib.axes._subplots.AxesSubplot at 0x163a8b13d88>"
      ]
     },
     "execution_count": 6,
     "metadata": {},
     "output_type": "execute_result"
    },
    {
     "data": {
      "image/png": "[encoded data removed]",
      "text/plain": [
       "<Figure size 432x288 with 1 Axes>"
      ]
     },
     "metadata": {
      "needs_background": "light"
     },
     "output_type": "display_data"
    }
   ],
   "source": [
    "sb.boxplot(x=hrdata['JobLevel'],y=hrdata['MonthlyIncome'])"
   ]
  },
  {
   "cell_type": "code",
   "execution_count": 7,
   "metadata": {},
   "outputs": [],
   "source": [
    "hrdata['MonthlyIncome']=hrdata['MonthlyIncome'].fillna(hrdata.groupby('JobLevel')['MonthlyIncome'].transform('median'))"
   ]
  },
  {
   "cell_type": "code",
   "execution_count": 8,
   "metadata": {},
   "outputs": [],
   "source": [
    "hrdata['BusinessTravel']=hrdata['BusinessTravel'].fillna(hrdata['BusinessTravel'].mode()[0])"
   ]
  },
  {
   "cell_type": "code",
   "execution_count": 9,
   "metadata": {},
   "outputs": [
    {
     "data": {
      "text/plain": [
       "Research & Development    0.605694\n",
       "Sales                     0.350178\n",
       "Human Resources           0.044128\n",
       "Name: Department, dtype: float64"
      ]
     },
     "execution_count": 9,
     "metadata": {},
     "output_type": "execute_result"
    }
   ],
   "source": [
    "hrdata['Department'].value_counts(normalize=True)"
   ]
  },
  {
   "cell_type": "code",
   "execution_count": 13,
   "metadata": {},
   "outputs": [
    {
     "data": {
      "text/plain": [
       "Department\n",
       "Human Resources           2741.0\n",
       "Research & Development    3408.0\n",
       "Sales                     5422.0\n",
       "Name: MonthlyIncome, dtype: float64"
      ]
     },
     "execution_count": 13,
     "metadata": {},
     "output_type": "execute_result"
    }
   ],
   "source": [
    "hrdata.groupby(['Department'])['MonthlyIncome'].median()"
   ]
  },
  {
   "cell_type": "code",
   "execution_count": 14,
   "metadata": {},
   "outputs": [],
   "source": [
    "ind=hrdata[hrdata['Department'].isnull()].index\n",
    "for i in ind:\n",
    "    if (hrdata.loc[i,'MonthlyIncome'] <2900):\n",
    "        hrdata.loc[i,'Department']='Human Resources'\n",
    "    elif (hrdata.loc[i,'MonthlyIncome'] > 5200):\n",
    "        hrdata.loc[i,'Department']='Sales'\n",
    "    else:\n",
    "        hrdata.loc[i,'Department']='Research & Development'"
   ]
  },
  {
   "cell_type": "code",
   "execution_count": 15,
   "metadata": {},
   "outputs": [],
   "source": [
    "hrdata['DistanceFromHome']=hrdata['DistanceFromHome'].fillna(-999)"
   ]
  },
  {
   "cell_type": "code",
   "execution_count": 16,
   "metadata": {},
   "outputs": [],
   "source": [
    "hrdata['JobSatisfaction']=hrdata['JobSatisfaction'].fillna(hrdata['JobSatisfaction'].mode()[0])"
   ]
  },
  {
   "cell_type": "code",
   "execution_count": 17,
   "metadata": {},
   "outputs": [
    {
     "data": {
      "text/plain": [
       "0"
      ]
     },
     "execution_count": 17,
     "metadata": {},
     "output_type": "execute_result"
    }
   ],
   "source": [
    "hrdata.isnull().sum().sum()"
   ]
  },
  {
   "cell_type": "code",
   "execution_count": 22,
   "metadata": {},
   "outputs": [],
   "source": [
    "num_hrdata=hrdata[['Age','DistanceFromHome',\n",
    "                  'MonthlyIncome','NumCompaniesWorked',\n",
    "                  'PercentSalaryHike','YearsAtCompany']]"
   ]
  },
  {
   "cell_type": "code",
   "execution_count": 56,
   "metadata": {},
   "outputs": [],
   "source": [
    "# Encoding\n",
    "cat_hrdata=hrdata.select_dtypes(exclude=np.number)"
   ]
  },
  {
   "cell_type": "code",
   "execution_count": 57,
   "metadata": {},
   "outputs": [],
   "source": [
    "cat_hrdata['Attrition']=cat_hrdata['Attrition'].replace({'Yes':1,'No':0})"
   ]
  },
  {
   "cell_type": "code",
   "execution_count": 58,
   "metadata": {},
   "outputs": [],
   "source": [
    "cat_hrdata=pd.get_dummies(cat_hrdata,columns=['OverTime'],drop_first=True)"
   ]
  },
  {
   "cell_type": "code",
   "execution_count": 55,
   "metadata": {},
   "outputs": [
    {
     "data": {
      "text/plain": [
       "9"
      ]
     },
     "execution_count": 55,
     "metadata": {},
     "output_type": "execute_result"
    }
   ],
   "source": [
    "cat_hrdata['JobRole'].nunique()"
   ]
  },
  {
   "cell_type": "code",
   "execution_count": 46,
   "metadata": {},
   "outputs": [],
   "source": [
    "#MEan Encoding/Target Encoding\n",
    "cat_hrdata['JobRole']=hrdata.groupby('JobRole')['MonthlyIncome'].transform('mean')\n",
    "#cat_hrdata['JobRole']=cat_hrdata.groupby('JobRole')['Attrition'].transform('sum')"
   ]
  },
  {
   "cell_type": "code",
   "execution_count": null,
   "metadata": {},
   "outputs": [],
   "source": []
  },
  {
   "cell_type": "code",
   "execution_count": 62,
   "metadata": {},
   "outputs": [],
   "source": [
    "#cat_hrdata.groupby('JobRole')['Attrition'].transform('sum')"
   ]
  },
  {
   "cell_type": "code",
   "execution_count": 47,
   "metadata": {},
   "outputs": [],
   "source": [
    "cat_hrdata=pd.get_dummies(cat_hrdata,columns=['BusinessTravel','Department','Gender'],drop_first=True)"
   ]
  },
  {
   "cell_type": "code",
   "execution_count": 48,
   "metadata": {},
   "outputs": [],
   "source": [
    "#Frequency Encoding\n",
    "tab=cat_hrdata['EducationField'].value_counts(normalize=True)\n",
    "cat_hrdata['EducationField']=cat_hrdata['EducationField'].map(tab)"
   ]
  },
  {
   "cell_type": "code",
   "execution_count": 49,
   "metadata": {},
   "outputs": [],
   "source": [
    "final_data=pd.concat([num_hrdata,cat_hrdata],axis=1)"
   ]
  },
  {
   "cell_type": "code",
   "execution_count": 50,
   "metadata": {},
   "outputs": [],
   "source": [
    "final_data=pd.concat([final_data,hrdata[['JobInvolvement',\n",
    "                                        'JobLevel',\n",
    "                                        'JobSatisfaction']]],axis=1)"
   ]
  },
  {
   "cell_type": "code",
   "execution_count": 51,
   "metadata": {},
   "outputs": [
    {
     "data": {
      "text/html": [
       "<div>\n",
       "<style scoped>\n",
       "    .dataframe tbody tr th:only-of-type {\n",
       "        vertical-align: middle;\n",
       "    }\n",
       "\n",
       "    .dataframe tbody tr th {\n",
       "        vertical-align: top;\n",
       "    }\n",
       "\n",
       "    .dataframe thead th {\n",
       "        text-align: right;\n",
       "    }\n",
       "</style>\n",
       "<table border=\"1\" class=\"dataframe\">\n",
       "  <thead>\n",
       "    <tr style=\"text-align: right;\">\n",
       "      <th></th>\n",
       "      <th>Age</th>\n",
       "      <th>DistanceFromHome</th>\n",
       "      <th>MonthlyIncome</th>\n",
       "      <th>NumCompaniesWorked</th>\n",
       "      <th>PercentSalaryHike</th>\n",
       "      <th>YearsAtCompany</th>\n",
       "      <th>Attrition</th>\n",
       "      <th>EducationField</th>\n",
       "      <th>JobRole</th>\n",
       "      <th>OverTime_Yes</th>\n",
       "      <th>BusinessTravel_Travel_Frequently</th>\n",
       "      <th>BusinessTravel_Travel_Rarely</th>\n",
       "      <th>Department_Research &amp; Development</th>\n",
       "      <th>Department_Sales</th>\n",
       "      <th>Gender_Male</th>\n",
       "      <th>JobInvolvement</th>\n",
       "      <th>JobLevel</th>\n",
       "      <th>JobSatisfaction</th>\n",
       "    </tr>\n",
       "  </thead>\n",
       "  <tbody>\n",
       "    <tr>\n",
       "      <th>0</th>\n",
       "      <td>33.0</td>\n",
       "      <td>3.0</td>\n",
       "      <td>3348.0</td>\n",
       "      <td>1</td>\n",
       "      <td>11</td>\n",
       "      <td>10</td>\n",
       "      <td>1</td>\n",
       "      <td>0.392405</td>\n",
       "      <td>3051.666159</td>\n",
       "      <td>1</td>\n",
       "      <td>1</td>\n",
       "      <td>0</td>\n",
       "      <td>1</td>\n",
       "      <td>0</td>\n",
       "      <td>1</td>\n",
       "      <td>3</td>\n",
       "      <td>1</td>\n",
       "      <td>1.0</td>\n",
       "    </tr>\n",
       "    <tr>\n",
       "      <th>1</th>\n",
       "      <td>37.0</td>\n",
       "      <td>4.0</td>\n",
       "      <td>9824.0</td>\n",
       "      <td>1</td>\n",
       "      <td>11</td>\n",
       "      <td>14</td>\n",
       "      <td>1</td>\n",
       "      <td>0.294304</td>\n",
       "      <td>7021.412371</td>\n",
       "      <td>0</td>\n",
       "      <td>0</td>\n",
       "      <td>1</td>\n",
       "      <td>0</td>\n",
       "      <td>1</td>\n",
       "      <td>1</td>\n",
       "      <td>1</td>\n",
       "      <td>3</td>\n",
       "      <td>4.0</td>\n",
       "    </tr>\n",
       "  </tbody>\n",
       "</table>\n",
       "</div>"
      ],
      "text/plain": [
       "    Age  DistanceFromHome  MonthlyIncome  NumCompaniesWorked  \\\n",
       "0  33.0               3.0         3348.0                   1   \n",
       "1  37.0               4.0         9824.0                   1   \n",
       "\n",
       "   PercentSalaryHike  YearsAtCompany  Attrition  EducationField      JobRole  \\\n",
       "0                 11              10          1        0.392405  3051.666159   \n",
       "1                 11              14          1        0.294304  7021.412371   \n",
       "\n",
       "   OverTime_Yes  BusinessTravel_Travel_Frequently  \\\n",
       "0             1                                 1   \n",
       "1             0                                 0   \n",
       "\n",
       "   BusinessTravel_Travel_Rarely  Department_Research & Development  \\\n",
       "0                             0                                  1   \n",
       "1                             1                                  0   \n",
       "\n",
       "   Department_Sales  Gender_Male  JobInvolvement  JobLevel  JobSatisfaction  \n",
       "0                 0            1               3         1              1.0  \n",
       "1                 1            1               1         3              4.0  "
      ]
     },
     "execution_count": 51,
     "metadata": {},
     "output_type": "execute_result"
    }
   ],
   "source": [
    "final_data.head(2)"
   ]
  },
  {
   "cell_type": "code",
   "execution_count": 63,
   "metadata": {},
   "outputs": [
    {
     "name": "stdout",
     "output_type": "stream",
     "text": [
      "              precision    recall  f1-score   support\n",
      "\n",
      "           0       0.67      0.76      0.71       263\n",
      "           1       0.64      0.53      0.58       211\n",
      "\n",
      "    accuracy                           0.66       474\n",
      "   macro avg       0.65      0.64      0.64       474\n",
      "weighted avg       0.65      0.66      0.65       474\n",
      "\n"
     ]
    }
   ],
   "source": [
    "from sklearn.model_selection import train_test_split\n",
    "from sklearn.linear_model import LogisticRegression\n",
    "inp=final_data.drop('Attrition',axis=1)\n",
    "out=final_data['Attrition']\n",
    "xtrain,xtest,ytrain,ytest=train_test_split(inp,out,test_size=0.3,random_state=48,\n",
    "                                          stratify=out)\n",
    "\n",
    "lm=LogisticRegression()\n",
    "lm.fit(xtrain,ytrain)\n",
    "ypred=lm.predict(xtest)\n",
    "\n",
    "from sklearn.metrics import classification_report,confusion_matrix\n",
    "\n",
    "print(classification_report(ytest,ypred))"
   ]
  },
  {
   "cell_type": "code",
   "execution_count": 64,
   "metadata": {},
   "outputs": [
    {
     "data": {
      "text/plain": [
       "array([[-3.92856955e-02,  1.66427585e-04,  6.20171792e-06,\n",
       "         2.05841617e-01,  1.04226205e-01, -5.26119764e-02,\n",
       "         2.67018488e-03, -1.16584031e-04,  3.51197460e-01,\n",
       "         9.94102146e-02,  4.86909440e-02, -9.66831023e-02,\n",
       "         1.48972364e-01,  7.89951213e-02, -1.09931781e-01,\n",
       "         1.72314427e-02, -2.84057541e-02]])"
      ]
     },
     "execution_count": 64,
     "metadata": {},
     "output_type": "execute_result"
    }
   ],
   "source": [
    "lm.coef_"
   ]
  },
  {
   "cell_type": "code",
   "execution_count": 65,
   "metadata": {},
   "outputs": [],
   "source": [
    "from sklearn.tree import DecisionTreeClassifier\n",
    "from sklearn.neighbors import KNeighborsClassifier\n",
    "from sklearn.linear_model import LogisticRegression\n",
    "from sklearn.ensemble import RandomForestClassifier\n",
    "from sklearn.naive_bayes import GaussianNB\n",
    "from xgboost import XGBClassifier\n",
    "from sklearn.model_selection import cross_val_score,KFold"
   ]
  },
  {
   "cell_type": "code",
   "execution_count": 66,
   "metadata": {},
   "outputs": [],
   "source": [
    "clf1 = LogisticRegression(max_iter=3000)\n",
    "clf2= DecisionTreeClassifier(random_state=0)\n",
    "clf3=  RandomForestClassifier(random_state=0)\n",
    "clf4 = KNeighborsClassifier(n_neighbors=5) \n",
    "clf5= GaussianNB()\n",
    "clf6=XGBClassifier(random_state=0)"
   ]
  },
  {
   "cell_type": "code",
   "execution_count": 67,
   "metadata": {},
   "outputs": [
    {
     "name": "stdout",
     "output_type": "stream",
     "text": [
      "LR 0.6369846076302318 0.044649913114051754\n",
      "DT 0.8415428536907694 0.022538510654770316\n",
      "RF 0.92673142473026 0.020043860085258814\n",
      "KNN 0.6550575445532526 0.05647877692115645\n",
      "GNB 0.6639609712912102 0.016576396020410333\n",
      "[15:12:56] WARNING: C:/Users/Administrator/workspace/xgboost-win64_release_1.3.0/src/learner.cc:1061: Starting in XGBoost 1.3.0, the default evaluation metric used with the objective 'binary:logistic' was changed from 'error' to 'logloss'. Explicitly set eval_metric if you'd like to restore the old behavior.\n",
      "[15:12:56] WARNING: C:/Users/Administrator/workspace/xgboost-win64_release_1.3.0/src/learner.cc:1061: Starting in XGBoost 1.3.0, the default evaluation metric used with the objective 'binary:logistic' was changed from 'error' to 'logloss'. Explicitly set eval_metric if you'd like to restore the old behavior.\n",
      "[15:12:56] WARNING: C:/Users/Administrator/workspace/xgboost-win64_release_1.3.0/src/learner.cc:1061: Starting in XGBoost 1.3.0, the default evaluation metric used with the objective 'binary:logistic' was changed from 'error' to 'logloss'. Explicitly set eval_metric if you'd like to restore the old behavior.\n",
      "[15:12:57] WARNING: C:/Users/Administrator/workspace/xgboost-win64_release_1.3.0/src/learner.cc:1061: Starting in XGBoost 1.3.0, the default evaluation metric used with the objective 'binary:logistic' was changed from 'error' to 'logloss'. Explicitly set eval_metric if you'd like to restore the old behavior.\n",
      "[15:12:57] WARNING: C:/Users/Administrator/workspace/xgboost-win64_release_1.3.0/src/learner.cc:1061: Starting in XGBoost 1.3.0, the default evaluation metric used with the objective 'binary:logistic' was changed from 'error' to 'logloss'. Explicitly set eval_metric if you'd like to restore the old behavior.\n",
      "XGB 0.9090410762837541 0.01927609914388866\n"
     ]
    }
   ],
   "source": [
    "kf=KFold(n_splits=5,shuffle=True,random_state=0)\n",
    "for i,j in zip([clf1,clf2,clf3,clf4,clf5,clf6],['LR','DT','RF','KNN','GNB','XGB']):\n",
    "    score = cross_val_score(i, inp, out, cv=kf, scoring='f1')\n",
    "    print(j,np.mean(score),np.std(score)/np.mean(score))"
   ]
  },
  {
   "cell_type": "code",
   "execution_count": 44,
   "metadata": {},
   "outputs": [],
   "source": []
  },
  {
   "cell_type": "code",
   "execution_count": 69,
   "metadata": {},
   "outputs": [],
   "source": [
    "# Voting Classifier \n",
    "from sklearn.ensemble import VotingClassifier\n",
    "estimator=[('DT',DecisionTreeClassifier()),('rf',RandomForestClassifier()),\n",
    "          ('xb',XGBClassifier())]"
   ]
  },
  {
   "cell_type": "code",
   "execution_count": 70,
   "metadata": {},
   "outputs": [],
   "source": [
    "vot1=VotingClassifier(estimators=estimator, voting='hard')\n",
    "vot2=VotingClassifier(estimators=estimator, voting='soft')"
   ]
  },
  {
   "cell_type": "code",
   "execution_count": 71,
   "metadata": {},
   "outputs": [
    {
     "name": "stdout",
     "output_type": "stream",
     "text": [
      "[15:22:44] WARNING: C:/Users/Administrator/workspace/xgboost-win64_release_1.3.0/src/learner.cc:1061: Starting in XGBoost 1.3.0, the default evaluation metric used with the objective 'binary:logistic' was changed from 'error' to 'logloss'. Explicitly set eval_metric if you'd like to restore the old behavior.\n",
      "[15:22:44] WARNING: C:/Users/Administrator/workspace/xgboost-win64_release_1.3.0/src/learner.cc:1061: Starting in XGBoost 1.3.0, the default evaluation metric used with the objective 'binary:logistic' was changed from 'error' to 'logloss'. Explicitly set eval_metric if you'd like to restore the old behavior.\n",
      "[15:22:45] WARNING: C:/Users/Administrator/workspace/xgboost-win64_release_1.3.0/src/learner.cc:1061: Starting in XGBoost 1.3.0, the default evaluation metric used with the objective 'binary:logistic' was changed from 'error' to 'logloss'. Explicitly set eval_metric if you'd like to restore the old behavior.\n",
      "[15:22:45] WARNING: C:/Users/Administrator/workspace/xgboost-win64_release_1.3.0/src/learner.cc:1061: Starting in XGBoost 1.3.0, the default evaluation metric used with the objective 'binary:logistic' was changed from 'error' to 'logloss'. Explicitly set eval_metric if you'd like to restore the old behavior.\n",
      "[15:22:45] WARNING: C:/Users/Administrator/workspace/xgboost-win64_release_1.3.0/src/learner.cc:1061: Starting in XGBoost 1.3.0, the default evaluation metric used with the objective 'binary:logistic' was changed from 'error' to 'logloss'. Explicitly set eval_metric if you'd like to restore the old behavior.\n",
      "[15:22:46] WARNING: C:/Users/Administrator/workspace/xgboost-win64_release_1.3.0/src/learner.cc:1061: Starting in XGBoost 1.3.0, the default evaluation metric used with the objective 'binary:logistic' was changed from 'error' to 'logloss'. Explicitly set eval_metric if you'd like to restore the old behavior.\n",
      "[15:22:47] WARNING: C:/Users/Administrator/workspace/xgboost-win64_release_1.3.0/src/learner.cc:1061: Starting in XGBoost 1.3.0, the default evaluation metric used with the objective 'binary:logistic' was changed from 'error' to 'logloss'. Explicitly set eval_metric if you'd like to restore the old behavior.\n",
      "[15:22:47] WARNING: C:/Users/Administrator/workspace/xgboost-win64_release_1.3.0/src/learner.cc:1061: Starting in XGBoost 1.3.0, the default evaluation metric used with the objective 'binary:logistic' was changed from 'error' to 'logloss'. Explicitly set eval_metric if you'd like to restore the old behavior.\n",
      "[15:22:48] WARNING: C:/Users/Administrator/workspace/xgboost-win64_release_1.3.0/src/learner.cc:1061: Starting in XGBoost 1.3.0, the default evaluation metric used with the objective 'binary:logistic' was changed from 'error' to 'logloss'. Explicitly set eval_metric if you'd like to restore the old behavior.\n",
      "[15:22:49] WARNING: C:/Users/Administrator/workspace/xgboost-win64_release_1.3.0/src/learner.cc:1061: Starting in XGBoost 1.3.0, the default evaluation metric used with the objective 'binary:logistic' was changed from 'error' to 'logloss'. Explicitly set eval_metric if you'd like to restore the old behavior.\n",
      "vot1 0.9238511741655209 0.01871674112698092\n",
      "vot2 0.8978796621774027 0.0190655662606688\n"
     ]
    }
   ],
   "source": [
    "score_vot1 = cross_val_score(vot1, inp, out, cv=kf, scoring='f1')\n",
    "score_vot2 = cross_val_score(vot2, inp, out, cv=kf, scoring='f1')\n",
    "print('vot1',np.mean(score_vot1),np.std(score_vot1)/np.mean(score_vot1))\n",
    "print('vot2',np.mean(score_vot2),np.std(score_vot2)/np.mean(score_vot2))"
   ]
  },
  {
   "cell_type": "code",
   "execution_count": 73,
   "metadata": {},
   "outputs": [],
   "source": [
    "rf=RandomForestClassifier()\n",
    "rf.fit(xtrain,ytrain)\n",
    "ypred=rf.predict(xtest)"
   ]
  },
  {
   "cell_type": "code",
   "execution_count": 74,
   "metadata": {},
   "outputs": [],
   "source": [
    "feat_imp=pd.DataFrame()\n",
    "feat_imp['Feature']=xtrain.columns\n",
    "feat_imp['Importance']=rf.feature_importances_"
   ]
  },
  {
   "cell_type": "code",
   "execution_count": 75,
   "metadata": {},
   "outputs": [
    {
     "data": {
      "text/html": [
       "<div>\n",
       "<style scoped>\n",
       "    .dataframe tbody tr th:only-of-type {\n",
       "        vertical-align: middle;\n",
       "    }\n",
       "\n",
       "    .dataframe tbody tr th {\n",
       "        vertical-align: top;\n",
       "    }\n",
       "\n",
       "    .dataframe thead th {\n",
       "        text-align: right;\n",
       "    }\n",
       "</style>\n",
       "<table border=\"1\" class=\"dataframe\">\n",
       "  <thead>\n",
       "    <tr style=\"text-align: right;\">\n",
       "      <th></th>\n",
       "      <th>Feature</th>\n",
       "      <th>Importance</th>\n",
       "    </tr>\n",
       "  </thead>\n",
       "  <tbody>\n",
       "    <tr>\n",
       "      <th>2</th>\n",
       "      <td>MonthlyIncome</td>\n",
       "      <td>0.151497</td>\n",
       "    </tr>\n",
       "    <tr>\n",
       "      <th>0</th>\n",
       "      <td>Age</td>\n",
       "      <td>0.131393</td>\n",
       "    </tr>\n",
       "    <tr>\n",
       "      <th>5</th>\n",
       "      <td>YearsAtCompany</td>\n",
       "      <td>0.093267</td>\n",
       "    </tr>\n",
       "    <tr>\n",
       "      <th>1</th>\n",
       "      <td>DistanceFromHome</td>\n",
       "      <td>0.092248</td>\n",
       "    </tr>\n",
       "    <tr>\n",
       "      <th>8</th>\n",
       "      <td>OverTime_Yes</td>\n",
       "      <td>0.078010</td>\n",
       "    </tr>\n",
       "    <tr>\n",
       "      <th>4</th>\n",
       "      <td>PercentSalaryHike</td>\n",
       "      <td>0.071600</td>\n",
       "    </tr>\n",
       "    <tr>\n",
       "      <th>3</th>\n",
       "      <td>NumCompaniesWorked</td>\n",
       "      <td>0.067186</td>\n",
       "    </tr>\n",
       "    <tr>\n",
       "      <th>7</th>\n",
       "      <td>JobRole</td>\n",
       "      <td>0.058450</td>\n",
       "    </tr>\n",
       "    <tr>\n",
       "      <th>14</th>\n",
       "      <td>JobInvolvement</td>\n",
       "      <td>0.051215</td>\n",
       "    </tr>\n",
       "    <tr>\n",
       "      <th>16</th>\n",
       "      <td>JobSatisfaction</td>\n",
       "      <td>0.049532</td>\n",
       "    </tr>\n",
       "    <tr>\n",
       "      <th>6</th>\n",
       "      <td>EducationField</td>\n",
       "      <td>0.044512</td>\n",
       "    </tr>\n",
       "    <tr>\n",
       "      <th>15</th>\n",
       "      <td>JobLevel</td>\n",
       "      <td>0.032827</td>\n",
       "    </tr>\n",
       "    <tr>\n",
       "      <th>13</th>\n",
       "      <td>Gender_Male</td>\n",
       "      <td>0.018902</td>\n",
       "    </tr>\n",
       "    <tr>\n",
       "      <th>11</th>\n",
       "      <td>Department_Research &amp; Development</td>\n",
       "      <td>0.017129</td>\n",
       "    </tr>\n",
       "    <tr>\n",
       "      <th>9</th>\n",
       "      <td>BusinessTravel_Travel_Frequently</td>\n",
       "      <td>0.014673</td>\n",
       "    </tr>\n",
       "    <tr>\n",
       "      <th>12</th>\n",
       "      <td>Department_Sales</td>\n",
       "      <td>0.013990</td>\n",
       "    </tr>\n",
       "    <tr>\n",
       "      <th>10</th>\n",
       "      <td>BusinessTravel_Travel_Rarely</td>\n",
       "      <td>0.013570</td>\n",
       "    </tr>\n",
       "  </tbody>\n",
       "</table>\n",
       "</div>"
      ],
      "text/plain": [
       "                              Feature  Importance\n",
       "2                       MonthlyIncome    0.151497\n",
       "0                                 Age    0.131393\n",
       "5                      YearsAtCompany    0.093267\n",
       "1                    DistanceFromHome    0.092248\n",
       "8                        OverTime_Yes    0.078010\n",
       "4                   PercentSalaryHike    0.071600\n",
       "3                  NumCompaniesWorked    0.067186\n",
       "7                             JobRole    0.058450\n",
       "14                     JobInvolvement    0.051215\n",
       "16                    JobSatisfaction    0.049532\n",
       "6                      EducationField    0.044512\n",
       "15                           JobLevel    0.032827\n",
       "13                        Gender_Male    0.018902\n",
       "11  Department_Research & Development    0.017129\n",
       "9    BusinessTravel_Travel_Frequently    0.014673\n",
       "12                   Department_Sales    0.013990\n",
       "10       BusinessTravel_Travel_Rarely    0.013570"
      ]
     },
     "execution_count": 75,
     "metadata": {},
     "output_type": "execute_result"
    }
   ],
   "source": [
    "feat_imp.sort_values('Importance',ascending=False)"
   ]
  },
  {
   "cell_type": "code",
   "execution_count": 56,
   "metadata": {},
   "outputs": [],
   "source": [
    "from treeinterpreter import treeinterpreter as ti"
   ]
  },
  {
   "cell_type": "code",
   "execution_count": 57,
   "metadata": {},
   "outputs": [
    {
     "data": {
      "text/plain": [
       "Age                                    31.000000\n",
       "DistanceFromHome                        1.000000\n",
       "MonthlyIncome                        2302.000000\n",
       "NumCompaniesWorked                      1.000000\n",
       "PercentSalaryHike                      11.000000\n",
       "YearsAtCompany                          3.000000\n",
       "EducationField                          0.392405\n",
       "JobRole                              2407.690625\n",
       "OverTime_Yes                            1.000000\n",
       "BusinessTravel_Travel_Frequently        1.000000\n",
       "BusinessTravel_Travel_Rarely            0.000000\n",
       "Department_Research & Development       0.000000\n",
       "Department_Sales                        1.000000\n",
       "Gender_Male                             0.000000\n",
       "JobInvolvement                          3.000000\n",
       "JobLevel                                1.000000\n",
       "JobSatisfaction                         2.000000\n",
       "Name: 1282, dtype: float64"
      ]
     },
     "execution_count": 57,
     "metadata": {},
     "output_type": "execute_result"
    }
   ],
   "source": [
    " xtest.iloc[50,:]"
   ]
  },
  {
   "cell_type": "code",
   "execution_count": 58,
   "metadata": {},
   "outputs": [
    {
     "data": {
      "text/plain": [
       "array([[3.10000000e+01, 1.00000000e+00, 2.30200000e+03, 1.00000000e+00,\n",
       "        1.10000000e+01, 3.00000000e+00, 3.92405063e-01, 2.40769063e+03,\n",
       "        1.00000000e+00, 1.00000000e+00, 0.00000000e+00, 0.00000000e+00,\n",
       "        1.00000000e+00, 0.00000000e+00, 3.00000000e+00, 1.00000000e+00,\n",
       "        2.00000000e+00]])"
      ]
     },
     "execution_count": 58,
     "metadata": {},
     "output_type": "execute_result"
    }
   ],
   "source": [
    "obser = xtest.iloc[50,:].values.reshape(1,-1)\n",
    "obser"
   ]
  },
  {
   "cell_type": "code",
   "execution_count": 59,
   "metadata": {},
   "outputs": [],
   "source": [
    "prediction, bias, contributions = ti.predict(rf,obser)"
   ]
  },
  {
   "cell_type": "code",
   "execution_count": 60,
   "metadata": {},
   "outputs": [
    {
     "data": {
      "text/plain": [
       "array([[0.01, 0.99]])"
      ]
     },
     "execution_count": 60,
     "metadata": {},
     "output_type": "execute_result"
    }
   ],
   "source": [
    "prediction"
   ]
  },
  {
   "cell_type": "code",
   "execution_count": 61,
   "metadata": {},
   "outputs": [
    {
     "data": {
      "text/plain": [
       "1"
      ]
     },
     "execution_count": 61,
     "metadata": {},
     "output_type": "execute_result"
    }
   ],
   "source": [
    "ytest.iloc[50]"
   ]
  },
  {
   "cell_type": "code",
   "execution_count": 62,
   "metadata": {},
   "outputs": [
    {
     "data": {
      "text/plain": [
       "array([[[-0.043,  0.043],\n",
       "        [ 0.001, -0.001],\n",
       "        [-0.098,  0.098],\n",
       "        [-0.017,  0.017],\n",
       "        [-0.003,  0.003],\n",
       "        [ 0.006, -0.006],\n",
       "        [-0.006,  0.006],\n",
       "        [-0.082,  0.082],\n",
       "        [-0.177,  0.177],\n",
       "        [-0.012,  0.012],\n",
       "        [ 0.007, -0.007],\n",
       "        [-0.029,  0.029],\n",
       "        [-0.014,  0.014],\n",
       "        [-0.008,  0.008],\n",
       "        [-0.001,  0.001],\n",
       "        [-0.043,  0.043],\n",
       "        [-0.026,  0.026]]])"
      ]
     },
     "execution_count": 62,
     "metadata": {},
     "output_type": "execute_result"
    }
   ],
   "source": [
    "np.round(contributions,3)"
   ]
  },
  {
   "cell_type": "code",
   "execution_count": 63,
   "metadata": {},
   "outputs": [
    {
     "data": {
      "text/plain": [
       "array([[0.55582278, 0.44417722]])"
      ]
     },
     "execution_count": 63,
     "metadata": {},
     "output_type": "execute_result"
    }
   ],
   "source": [
    "bias"
   ]
  },
  {
   "cell_type": "code",
   "execution_count": 64,
   "metadata": {},
   "outputs": [
    {
     "data": {
      "text/plain": [
       "0.01000000000000012"
      ]
     },
     "execution_count": 64,
     "metadata": {},
     "output_type": "execute_result"
    }
   ],
   "source": [
    "np.sum(contributions[0][:,0]) + bias[0][0]"
   ]
  },
  {
   "cell_type": "code",
   "execution_count": 65,
   "metadata": {},
   "outputs": [
    {
     "data": {
      "text/plain": [
       "1.0"
      ]
     },
     "execution_count": 65,
     "metadata": {},
     "output_type": "execute_result"
    }
   ],
   "source": [
    "np.round(np.sum(contributions[0][:,1]) + bias[0][1])"
   ]
  },
  {
   "cell_type": "code",
   "execution_count": 68,
   "metadata": {},
   "outputs": [
    {
     "name": "stdout",
     "output_type": "stream",
     "text": [
      "n_estimator: 5\n",
      "Bias Error 0.12536837900278042\n",
      "Variance Error 0.01863628699208785\n",
      "n_estimator: 10\n",
      "Bias Error 0.09359458379816521\n",
      "Variance Error 0.012862365834453321\n",
      "n_estimator: 20\n",
      "Bias Error 0.08334003918534338\n",
      "Variance Error 0.019580107662194795\n",
      "n_estimator: 40\n",
      "Bias Error 0.08379143642417797\n",
      "Variance Error 0.014482915509892322\n",
      "n_estimator: 60\n",
      "Bias Error 0.0805546507515148\n",
      "Variance Error 0.010238000373202334\n",
      "n_estimator: 80\n",
      "Bias Error 0.07765806944851283\n",
      "Variance Error 0.01713848617195797\n",
      "n_estimator: 100\n",
      "Bias Error 0.0695857375411787\n",
      "Variance Error 0.012950266307203034\n",
      "n_estimator: 120\n",
      "Bias Error 0.0706775067859381\n",
      "Variance Error 0.01304524779277096\n",
      "n_estimator: 150\n",
      "Bias Error 0.07212679632495544\n",
      "Variance Error 0.014146090326913378\n",
      "n_estimator: 200\n",
      "Bias Error 0.07235562194737055\n",
      "Variance Error 0.013187855609825425\n",
      "n_estimator: 250\n",
      "Bias Error 0.0735831597439025\n",
      "Variance Error 0.015596686547916705\n",
      "n_estimator: 300\n",
      "Bias Error 0.0743576978205217\n",
      "Variance Error 0.01440062299926399\n",
      "n_estimator: 400\n",
      "Bias Error 0.0742870787705634\n",
      "Variance Error 0.01563656037857024\n"
     ]
    }
   ],
   "source": [
    "# Parameter Tuning\n",
    "be=[]\n",
    "ve=[]\n",
    "for i in [5,10,20,40,60,80,100,120,150,200,250,300,400]:\n",
    "    #for j in [10,15,20,30]:\n",
    "    dt=RandomForestClassifier(n_estimators=i,random_state=48)\n",
    "    #scorer = make_scorer(f1_score, average = 'weighted')\n",
    "    score=cross_val_score(dt,inp,out,cv=kf,scoring='f1')\n",
    "    print('n_estimator:',i)\n",
    "    print('Bias Error',1-np.mean(score))\n",
    "    print('Variance Error',np.std(score)/np.mean(score))\n",
    "    be.append(1-np.mean(score))\n",
    "    ve.append(np.std(score)/np.mean(score))"
   ]
  },
  {
   "cell_type": "code",
   "execution_count": 69,
   "metadata": {},
   "outputs": [
    {
     "data": {
      "text/plain": [
       "[<matplotlib.lines.Line2D at 0x2aeb3f94508>]"
      ]
     },
     "execution_count": 69,
     "metadata": {},
     "output_type": "execute_result"
    },
    {
     "data": {
      "image/png": "[encoded data removed]",
      "text/plain": [
       "<Figure size 432x288 with 1 Axes>"
      ]
     },
     "metadata": {
      "needs_background": "light"
     },
     "output_type": "display_data"
    }
   ],
   "source": [
    "from matplotlib import pyplot as plt\n",
    "plt.plot([5,10,20,40,60,80,100,120,150,200,250,300,400],be)"
   ]
  },
  {
   "cell_type": "code",
   "execution_count": 74,
   "metadata": {},
   "outputs": [
    {
     "data": {
      "text/plain": [
       "[<matplotlib.lines.Line2D at 0x1c38a56bfc8>]"
      ]
     },
     "execution_count": 74,
     "metadata": {},
     "output_type": "execute_result"
    },
    {
     "data": {
      "image/png": "[encoded data removed]",
      "text/plain": [
       "<Figure size 432x288 with 1 Axes>"
      ]
     },
     "metadata": {
      "needs_background": "light"
     },
     "output_type": "display_data"
    }
   ],
   "source": [
    "plt.plot([5,10,20,40,60,80,100,120,150,200,250,300,400],ve)"
   ]
  },
  {
   "cell_type": "code",
   "execution_count": 70,
   "metadata": {},
   "outputs": [],
   "source": [
    "be1=pd.DataFrame(be)/pd.DataFrame(be).sum()\n",
    "ve1=pd.DataFrame(ve)/pd.DataFrame(ve).sum()"
   ]
  },
  {
   "cell_type": "code",
   "execution_count": 74,
   "metadata": {},
   "outputs": [
    {
     "data": {
      "text/plain": [
       "<matplotlib.legend.Legend at 0x2aeb39bde48>"
      ]
     },
     "execution_count": 74,
     "metadata": {},
     "output_type": "execute_result"
    },
    {
     "data": {
      "image/png": "[encoded data removed]",
      "text/plain": [
       "<Figure size 432x288 with 1 Axes>"
      ]
     },
     "metadata": {
      "needs_background": "light"
     },
     "output_type": "display_data"
    }
   ],
   "source": [
    "plt.plot([5,10,20,40,60,80,100,120,150,200,250,300,400],np.array(be1),label='bias')\n",
    "plt.plot([5,10,20,40,60,80,100,120,150,200,250,300,400],np.array(ve1),label='var')\n",
    "plt.legend()"
   ]
  },
  {
   "cell_type": "code",
   "execution_count": 75,
   "metadata": {},
   "outputs": [],
   "source": [
    "# Grid Search CV\n",
    "from sklearn.model_selection import GridSearchCV\n",
    "\n",
    "params={'n_estimators':[50,80,100,120,140,190,200,210],\n",
    "        #'max_features':['auto','sqrt','log2'],\n",
    "        #'criterion':['gini','entropy'],\n",
    "        'max_depth':[10,15,20,25,30,40]}"
   ]
  },
  {
   "cell_type": "code",
   "execution_count": 76,
   "metadata": {},
   "outputs": [],
   "source": [
    "rf_mod1=RandomForestClassifier()\n",
    "hyp_mod=GridSearchCV(rf_mod1,param_grid=params,scoring='f1')"
   ]
  },
  {
   "cell_type": "code",
   "execution_count": 77,
   "metadata": {},
   "outputs": [],
   "source": [
    "tun_mod=hyp_mod.fit(xtrain,ytrain)"
   ]
  },
  {
   "cell_type": "code",
   "execution_count": 78,
   "metadata": {},
   "outputs": [
    {
     "data": {
      "text/plain": [
       "{'max_depth': 40, 'n_estimators': 190}"
      ]
     },
     "execution_count": 78,
     "metadata": {},
     "output_type": "execute_result"
    }
   ],
   "source": [
    "tun_mod.best_params_"
   ]
  },
  {
   "cell_type": "code",
   "execution_count": 79,
   "metadata": {},
   "outputs": [
    {
     "data": {
      "text/plain": [
       "0.9199171142009368"
      ]
     },
     "execution_count": 79,
     "metadata": {},
     "output_type": "execute_result"
    }
   ],
   "source": [
    "tun_mod.best_score_"
   ]
  },
  {
   "cell_type": "code",
   "execution_count": 80,
   "metadata": {},
   "outputs": [
    {
     "data": {
      "text/plain": [
       "(48, 15)"
      ]
     },
     "execution_count": 80,
     "metadata": {},
     "output_type": "execute_result"
    }
   ],
   "source": [
    "res=pd.DataFrame(tun_mod.cv_results_)\n",
    "res.shape"
   ]
  },
  {
   "cell_type": "code",
   "execution_count": null,
   "metadata": {},
   "outputs": [],
   "source": []
  },
  {
   "cell_type": "code",
   "execution_count": 82,
   "metadata": {},
   "outputs": [],
   "source": [
    "final_mod=RandomForestClassifier(**tun_mod.best_params_)"
   ]
  },
  {
   "cell_type": "code",
   "execution_count": 83,
   "metadata": {},
   "outputs": [
    {
     "data": {
      "text/plain": [
       "RandomForestClassifier(bootstrap=True, ccp_alpha=0.0, class_weight=None,\n",
       "                       criterion='gini', max_depth=40, max_features='auto',\n",
       "                       max_leaf_nodes=None, max_samples=None,\n",
       "                       min_impurity_decrease=0.0, min_impurity_split=None,\n",
       "                       min_samples_leaf=1, min_samples_split=2,\n",
       "                       min_weight_fraction_leaf=0.0, n_estimators=190,\n",
       "                       n_jobs=None, oob_score=False, random_state=None,\n",
       "                       verbose=0, warm_start=False)"
      ]
     },
     "execution_count": 83,
     "metadata": {},
     "output_type": "execute_result"
    }
   ],
   "source": [
    "final_mod.fit(xtrain,ytrain)"
   ]
  },
  {
   "cell_type": "code",
   "execution_count": 84,
   "metadata": {},
   "outputs": [],
   "source": [
    "ypred1=final_mod.predict(xtest)\n",
    "ypred1_train=final_mod.predict(xtrain)"
   ]
  },
  {
   "cell_type": "code",
   "execution_count": 89,
   "metadata": {},
   "outputs": [
    {
     "data": {
      "text/plain": [
       "array([[232,  31],\n",
       "       [ 17, 194]], dtype=int64)"
      ]
     },
     "execution_count": 89,
     "metadata": {},
     "output_type": "execute_result"
    }
   ],
   "source": [
    "confusion_matrix(ytest,ypred1)"
   ]
  },
  {
   "cell_type": "code",
   "execution_count": 85,
   "metadata": {},
   "outputs": [
    {
     "name": "stdout",
     "output_type": "stream",
     "text": [
      "              precision    recall  f1-score   support\n",
      "\n",
      "           0       0.93      0.88      0.91       263\n",
      "           1       0.86      0.92      0.89       211\n",
      "\n",
      "    accuracy                           0.90       474\n",
      "   macro avg       0.90      0.90      0.90       474\n",
      "weighted avg       0.90      0.90      0.90       474\n",
      "\n"
     ]
    }
   ],
   "source": [
    "print(classification_report(ytest,ypred1))"
   ]
  },
  {
   "cell_type": "code",
   "execution_count": 87,
   "metadata": {},
   "outputs": [
    {
     "name": "stdout",
     "output_type": "stream",
     "text": [
      "0.9241056900184546 0.01807258502822248\n"
     ]
    }
   ],
   "source": [
    "score = cross_val_score(final_mod, inp, out, cv=kf, scoring='f1')\n",
    "print(np.mean(score),np.std(score)/np.mean(score))"
   ]
  },
  {
   "cell_type": "code",
   "execution_count": null,
   "metadata": {},
   "outputs": [],
   "source": []
  }
 ],
 "metadata": {
  "kernelspec": {
   "display_name": "Python 3",
   "language": "python",
   "name": "python3"
  },
  "language_info": {
   "codemirror_mode": {
    "name": "ipython",
    "version": 3
   },
   "file_extension": ".py",
   "mimetype": "text/x-python",
   "name": "python",
   "nbconvert_exporter": "python",
   "pygments_lexer": "ipython3",
   "version": "3.7.6"
  }
 },
 "nbformat": 4,
 "nbformat_minor": 4
}
