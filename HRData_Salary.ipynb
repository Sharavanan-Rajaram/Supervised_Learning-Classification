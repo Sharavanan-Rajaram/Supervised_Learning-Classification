{
 "cells": [
  {
   "cell_type": "code",
   "execution_count": 1,
   "metadata": {},
   "outputs": [],
   "source": [
    "import pandas as pd\n",
    "import numpy as np\n",
    "import warnings\n",
    "warnings.filterwarnings(\"ignore\")"
   ]
  },
  {
   "cell_type": "code",
   "execution_count": 2,
   "metadata": {},
   "outputs": [
    {
     "data": {
      "text/html": [
       "<div>\n",
       "<style scoped>\n",
       "    .dataframe tbody tr th:only-of-type {\n",
       "        vertical-align: middle;\n",
       "    }\n",
       "\n",
       "    .dataframe tbody tr th {\n",
       "        vertical-align: top;\n",
       "    }\n",
       "\n",
       "    .dataframe thead th {\n",
       "        text-align: right;\n",
       "    }\n",
       "</style>\n",
       "<table border=\"1\" class=\"dataframe\">\n",
       "  <thead>\n",
       "    <tr style=\"text-align: right;\">\n",
       "      <th></th>\n",
       "      <th>Age</th>\n",
       "      <th>Workclass</th>\n",
       "      <th>Education</th>\n",
       "      <th>Education_Num</th>\n",
       "      <th>Martial_Status</th>\n",
       "      <th>Occupation</th>\n",
       "      <th>Relationship</th>\n",
       "      <th>Race</th>\n",
       "      <th>Gender</th>\n",
       "      <th>Capital_Gain</th>\n",
       "      <th>Capital_Loss</th>\n",
       "      <th>Hours_per_week</th>\n",
       "      <th>Country</th>\n",
       "      <th>Salary_Group</th>\n",
       "    </tr>\n",
       "  </thead>\n",
       "  <tbody>\n",
       "    <tr>\n",
       "      <th>0</th>\n",
       "      <td>39.0</td>\n",
       "      <td>State-gov</td>\n",
       "      <td>Bachelors</td>\n",
       "      <td>13</td>\n",
       "      <td>Never-married</td>\n",
       "      <td>Adm-clerical</td>\n",
       "      <td>Not-in-family</td>\n",
       "      <td>White</td>\n",
       "      <td>Male</td>\n",
       "      <td>2174</td>\n",
       "      <td>0</td>\n",
       "      <td>40.0</td>\n",
       "      <td>United-States</td>\n",
       "      <td>&lt;=50K</td>\n",
       "    </tr>\n",
       "    <tr>\n",
       "      <th>1</th>\n",
       "      <td>50.0</td>\n",
       "      <td>Self-emp-not-inc</td>\n",
       "      <td>Bachelors</td>\n",
       "      <td>13</td>\n",
       "      <td>Married-civ-spouse</td>\n",
       "      <td>Exec-managerial</td>\n",
       "      <td>Husband</td>\n",
       "      <td>White</td>\n",
       "      <td>Male</td>\n",
       "      <td>0</td>\n",
       "      <td>0</td>\n",
       "      <td>13.0</td>\n",
       "      <td>United-States</td>\n",
       "      <td>&lt;=50K</td>\n",
       "    </tr>\n",
       "  </tbody>\n",
       "</table>\n",
       "</div>"
      ],
      "text/plain": [
       "    Age          Workclass   Education  Education_Num       Martial_Status  \\\n",
       "0  39.0          State-gov   Bachelors             13        Never-married   \n",
       "1  50.0   Self-emp-not-inc   Bachelors             13   Married-civ-spouse   \n",
       "\n",
       "         Occupation    Relationship    Race Gender  Capital_Gain  \\\n",
       "0      Adm-clerical   Not-in-family   White   Male          2174   \n",
       "1   Exec-managerial         Husband   White   Male             0   \n",
       "\n",
       "   Capital_Loss  Hours_per_week         Country Salary_Group  \n",
       "0             0            40.0   United-States        <=50K  \n",
       "1             0            13.0   United-States        <=50K  "
      ]
     },
     "execution_count": 2,
     "metadata": {},
     "output_type": "execute_result"
    }
   ],
   "source": [
    "data=pd.read_csv('HR_data1.csv')\n",
    "data.head(2)"
   ]
  },
  {
   "cell_type": "code",
   "execution_count": 3,
   "metadata": {},
   "outputs": [],
   "source": [
    "cat_data=data.select_dtypes(exclude=np.number)"
   ]
  },
  {
   "cell_type": "code",
   "execution_count": 4,
   "metadata": {},
   "outputs": [],
   "source": [
    "for i in cat_data.columns:\n",
    "    data[i]=data[i].str.strip()"
   ]
  },
  {
   "cell_type": "code",
   "execution_count": 5,
   "metadata": {},
   "outputs": [
    {
     "data": {
      "text/plain": [
       "array(['<=50K', '>50K', '<=50K.', '>50K.'], dtype=object)"
      ]
     },
     "execution_count": 5,
     "metadata": {},
     "output_type": "execute_result"
    }
   ],
   "source": [
    "data['Salary_Group'].unique()"
   ]
  },
  {
   "cell_type": "code",
   "execution_count": 6,
   "metadata": {},
   "outputs": [],
   "source": [
    "data['Salary_Group']=data['Salary_Group'].replace({'<=50K':0,'<=50K.':0,'>50K.':1,'>50K':1})"
   ]
  },
  {
   "cell_type": "code",
   "execution_count": 7,
   "metadata": {},
   "outputs": [
    {
     "data": {
      "text/plain": [
       "0    0.758918\n",
       "1    0.241082\n",
       "Name: Salary_Group, dtype: float64"
      ]
     },
     "execution_count": 7,
     "metadata": {},
     "output_type": "execute_result"
    }
   ],
   "source": [
    "data['Salary_Group'].value_counts(normalize=True)"
   ]
  },
  {
   "cell_type": "code",
   "execution_count": 8,
   "metadata": {},
   "outputs": [
    {
     "data": {
      "text/plain": [
       "Age               0.054754\n",
       "Workclass         0.056917\n",
       "Education         0.000000\n",
       "Education_Num     0.000000\n",
       "Martial_Status    0.000000\n",
       "Occupation        0.057136\n",
       "Relationship      0.000000\n",
       "Race              0.000000\n",
       "Gender            0.000000\n",
       "Capital_Gain      0.000000\n",
       "Capital_Loss      0.000000\n",
       "Hours_per_week    0.030087\n",
       "Country           0.017959\n",
       "Salary_Group      0.000000\n",
       "dtype: float64"
      ]
     },
     "execution_count": 8,
     "metadata": {},
     "output_type": "execute_result"
    }
   ],
   "source": [
    "data.isnull().sum()/len(data)"
   ]
  },
  {
   "cell_type": "code",
   "execution_count": 9,
   "metadata": {},
   "outputs": [],
   "source": [
    "num_data=data.select_dtypes(include=np.number)"
   ]
  },
  {
   "cell_type": "code",
   "execution_count": null,
   "metadata": {},
   "outputs": [],
   "source": [
    "#!pip install missingpy\n",
    "#from missingpy import KNNImputer"
   ]
  },
  {
   "cell_type": "code",
   "execution_count": 10,
   "metadata": {},
   "outputs": [],
   "source": [
    "from sklearn.impute import KNNImputer\n",
    "impu=KNNImputer()\n",
    "num_data_fill=impu.fit_transform(num_data)\n",
    "num_data_fill=pd.DataFrame(num_data_fill,columns=num_data.columns)"
   ]
  },
  {
   "cell_type": "code",
   "execution_count": 11,
   "metadata": {},
   "outputs": [
    {
     "data": {
      "text/plain": [
       "Age               0\n",
       "Education_Num     0\n",
       "Capital_Gain      0\n",
       "Capital_Loss      0\n",
       "Hours_per_week    0\n",
       "Salary_Group      0\n",
       "dtype: int64"
      ]
     },
     "execution_count": 11,
     "metadata": {},
     "output_type": "execute_result"
    }
   ],
   "source": [
    "num_data_fill.isnull().sum()"
   ]
  },
  {
   "cell_type": "code",
   "execution_count": 12,
   "metadata": {},
   "outputs": [
    {
     "data": {
      "text/plain": [
       "Workclass         0.056917\n",
       "Education         0.000000\n",
       "Martial_Status    0.000000\n",
       "Occupation        0.057136\n",
       "Relationship      0.000000\n",
       "Race              0.000000\n",
       "Gender            0.000000\n",
       "Country           0.017959\n",
       "dtype: float64"
      ]
     },
     "execution_count": 12,
     "metadata": {},
     "output_type": "execute_result"
    }
   ],
   "source": [
    "cat_data=data.select_dtypes(exclude=np.number)\n",
    "cat_data.isnull().sum()/len(cat_data)"
   ]
  },
  {
   "cell_type": "code",
   "execution_count": 13,
   "metadata": {},
   "outputs": [
    {
     "name": "stdout",
     "output_type": "stream",
     "text": [
      "Private             0.738533\n",
      "Self-emp-not-inc    0.082588\n",
      "Local-gov           0.068306\n",
      "State-gov           0.042180\n",
      "Self-emp-inc        0.036287\n",
      "Federal-gov         0.031410\n",
      "Without-pay         0.000464\n",
      "Never-worked        0.000232\n",
      "Name: Workclass, dtype: float64\n",
      "United-States                 0.912213\n",
      "Mexico                        0.019849\n",
      "Philippines                   0.006189\n",
      "Germany                       0.004321\n",
      "Canada                        0.003903\n",
      "Puerto-Rico                   0.003680\n",
      "El-Salvador                   0.003178\n",
      "India                         0.003122\n",
      "Cuba                          0.002927\n",
      "England                       0.002704\n",
      "China                         0.002593\n",
      "South                         0.002565\n",
      "Jamaica                       0.002397\n",
      "Italy                         0.002286\n",
      "Dominican-Republic            0.002202\n",
      "Vietnam                       0.002091\n",
      "Japan                         0.001979\n",
      "Guatemala                     0.001924\n",
      "Columbia                      0.001896\n",
      "Poland                        0.001728\n",
      "Taiwan                        0.001533\n",
      "Iran                          0.001422\n",
      "Haiti                         0.001338\n",
      "Portugal                      0.001227\n",
      "Nicaragua                     0.001059\n",
      "Greece                        0.001004\n",
      "Peru                          0.000920\n",
      "France                        0.000864\n",
      "Ecuador                       0.000864\n",
      "Ireland                       0.000753\n",
      "Hong                          0.000669\n",
      "Trinadad&Tobago               0.000641\n",
      "Cambodia                      0.000613\n",
      "Thailand                      0.000558\n",
      "Laos                          0.000558\n",
      "Outlying-US(Guam-USVI-etc)    0.000474\n",
      "Yugoslavia                    0.000474\n",
      "Scotland                      0.000446\n",
      "Hungary                       0.000418\n",
      "Honduras                      0.000390\n",
      "Holand-Netherlands            0.000028\n",
      "Name: Country, dtype: float64\n",
      "Prof-specialty       0.134785\n",
      "Craft-repair         0.133420\n",
      "Exec-managerial      0.131707\n",
      "Adm-clerical         0.122358\n",
      "Sales                0.119744\n",
      "Other-service        0.106852\n",
      "Machine-op-inspct    0.064895\n",
      "Transport-moving     0.052003\n",
      "Handlers-cleaners    0.044774\n",
      "Farming-fishing      0.031707\n",
      "Tech-support         0.030865\n",
      "Protective-serv      0.021603\n",
      "Priv-house-serv      0.004994\n",
      "Armed-Forces         0.000290\n",
      "Name: Occupation, dtype: float64\n"
     ]
    }
   ],
   "source": [
    "print(cat_data['Workclass'].value_counts(normalize=True))\n",
    "print(cat_data['Country'].value_counts(normalize=True))\n",
    "print(cat_data['Occupation'].value_counts(normalize=True))\n",
    "\n",
    "#If we dont know what to do with missing value in categorical variables, we may introduce a new level called as 'Missing'\n",
    "#ML will understand the level Missing\n",
    "#If there is any pattern in missing , using ML we can predict the values later"
   ]
  },
  {
   "cell_type": "code",
   "execution_count": 14,
   "metadata": {},
   "outputs": [],
   "source": [
    "cat_data['Occupation']=cat_data['Occupation'].fillna('Missing')\n",
    "cat_data['Country']=cat_data['Country'].fillna(cat_data['Country'].mode()[0])\n",
    "cat_data['Workclass']=cat_data['Workclass'].fillna(cat_data['Workclass'].mode()[0])"
   ]
  },
  {
   "cell_type": "code",
   "execution_count": 15,
   "metadata": {},
   "outputs": [
    {
     "data": {
      "text/plain": [
       "Workclass         0\n",
       "Education         0\n",
       "Martial_Status    0\n",
       "Occupation        0\n",
       "Relationship      0\n",
       "Race              0\n",
       "Gender            0\n",
       "Country           0\n",
       "dtype: int64"
      ]
     },
     "execution_count": 15,
     "metadata": {},
     "output_type": "execute_result"
    }
   ],
   "source": [
    "cat_data.isnull().sum()"
   ]
  },
  {
   "cell_type": "code",
   "execution_count": 16,
   "metadata": {},
   "outputs": [],
   "source": [
    "data_final=pd.concat([num_data_fill,cat_data],axis=1)"
   ]
  },
  {
   "cell_type": "code",
   "execution_count": 17,
   "metadata": {},
   "outputs": [
    {
     "data": {
      "text/plain": [
       "0"
      ]
     },
     "execution_count": 17,
     "metadata": {},
     "output_type": "execute_result"
    }
   ],
   "source": [
    "data_final.isnull().sum().sum()"
   ]
  },
  {
   "cell_type": "code",
   "execution_count": 18,
   "metadata": {},
   "outputs": [
    {
     "data": {
      "text/html": [
       "<div>\n",
       "<style scoped>\n",
       "    .dataframe tbody tr th:only-of-type {\n",
       "        vertical-align: middle;\n",
       "    }\n",
       "\n",
       "    .dataframe tbody tr th {\n",
       "        vertical-align: top;\n",
       "    }\n",
       "\n",
       "    .dataframe thead th {\n",
       "        text-align: right;\n",
       "    }\n",
       "</style>\n",
       "<table border=\"1\" class=\"dataframe\">\n",
       "  <thead>\n",
       "    <tr style=\"text-align: right;\">\n",
       "      <th></th>\n",
       "      <th>Age</th>\n",
       "      <th>Education_Num</th>\n",
       "      <th>Capital_Gain</th>\n",
       "      <th>Capital_Loss</th>\n",
       "      <th>Hours_per_week</th>\n",
       "      <th>Salary_Group</th>\n",
       "      <th>Workclass</th>\n",
       "      <th>Education</th>\n",
       "      <th>Martial_Status</th>\n",
       "      <th>Occupation</th>\n",
       "      <th>Relationship</th>\n",
       "      <th>Race</th>\n",
       "      <th>Gender</th>\n",
       "      <th>Country</th>\n",
       "    </tr>\n",
       "  </thead>\n",
       "  <tbody>\n",
       "    <tr>\n",
       "      <th>0</th>\n",
       "      <td>39.0</td>\n",
       "      <td>13.0</td>\n",
       "      <td>2174.0</td>\n",
       "      <td>0.0</td>\n",
       "      <td>40.0</td>\n",
       "      <td>0.0</td>\n",
       "      <td>State-gov</td>\n",
       "      <td>Bachelors</td>\n",
       "      <td>Never-married</td>\n",
       "      <td>Adm-clerical</td>\n",
       "      <td>Not-in-family</td>\n",
       "      <td>White</td>\n",
       "      <td>Male</td>\n",
       "      <td>United-States</td>\n",
       "    </tr>\n",
       "    <tr>\n",
       "      <th>1</th>\n",
       "      <td>50.0</td>\n",
       "      <td>13.0</td>\n",
       "      <td>0.0</td>\n",
       "      <td>0.0</td>\n",
       "      <td>13.0</td>\n",
       "      <td>0.0</td>\n",
       "      <td>Self-emp-not-inc</td>\n",
       "      <td>Bachelors</td>\n",
       "      <td>Married-civ-spouse</td>\n",
       "      <td>Exec-managerial</td>\n",
       "      <td>Husband</td>\n",
       "      <td>White</td>\n",
       "      <td>Male</td>\n",
       "      <td>United-States</td>\n",
       "    </tr>\n",
       "  </tbody>\n",
       "</table>\n",
       "</div>"
      ],
      "text/plain": [
       "    Age  Education_Num  Capital_Gain  Capital_Loss  Hours_per_week  \\\n",
       "0  39.0           13.0        2174.0           0.0            40.0   \n",
       "1  50.0           13.0           0.0           0.0            13.0   \n",
       "\n",
       "   Salary_Group         Workclass  Education      Martial_Status  \\\n",
       "0           0.0         State-gov  Bachelors       Never-married   \n",
       "1           0.0  Self-emp-not-inc  Bachelors  Married-civ-spouse   \n",
       "\n",
       "        Occupation   Relationship   Race Gender        Country  \n",
       "0     Adm-clerical  Not-in-family  White   Male  United-States  \n",
       "1  Exec-managerial        Husband  White   Male  United-States  "
      ]
     },
     "execution_count": 18,
     "metadata": {},
     "output_type": "execute_result"
    }
   ],
   "source": [
    "data_final.head(2)"
   ]
  },
  {
   "cell_type": "code",
   "execution_count": 19,
   "metadata": {},
   "outputs": [],
   "source": [
    "#data_final['Salary_Group']"
   ]
  },
  {
   "cell_type": "code",
   "execution_count": null,
   "metadata": {},
   "outputs": [],
   "source": [
    "#ENCODING\n",
    "#when we dont know ordinal or nominal we consider that to be nominal. \n",
    "#nominal cant be considered ordinal but if ordinal is considered as nominal then not a problem"
   ]
  },
  {
   "cell_type": "code",
   "execution_count": 20,
   "metadata": {},
   "outputs": [],
   "source": [
    "data_final['Occupation']=data_final.groupby('Occupation')['Salary_Group'].transform('sum')\n",
    "\n",
    "#This one above is Target encoding - preffered to use when multiple levels in input column also when inp column not Ordinal\n",
    "#For each and every occupation level, it will tell how many people above 50K\n",
    "\n",
    "#If op was continuous - We can use Avg salary as level to represent the occupation\n",
    "\n",
    "#Encoding using Target column , then it will be helpful in understanding the OP. dont do with ip as it cause multicollinear"
   ]
  },
  {
   "cell_type": "code",
   "execution_count": 21,
   "metadata": {},
   "outputs": [],
   "source": [
    "data_final['Occupation']=data_final['Occupation']/len(data_final)*100"
   ]
  },
  {
   "cell_type": "code",
   "execution_count": 22,
   "metadata": {},
   "outputs": [],
   "source": [
    "data_final['Country']=data_final.groupby('Country')['Salary_Group'].transform('sum')\n",
    "data_final['Country']=data_final['Country']/len(data_final)*100"
   ]
  },
  {
   "cell_type": "code",
   "execution_count": 23,
   "metadata": {},
   "outputs": [],
   "source": [
    "data_final['Workclass']=data_final.groupby('Workclass')['Salary_Group'].transform('sum')\n",
    "data_final['Workclass']=data_final['Workclass']/len(data_final)*100"
   ]
  },
  {
   "cell_type": "code",
   "execution_count": 24,
   "metadata": {},
   "outputs": [],
   "source": [
    "data_final['Martial_Status']=data_final.groupby('Martial_Status')['Salary_Group'].transform('sum')\n",
    "data_final['Martial_Status']=data_final['Martial_Status']/len(data_final)*100"
   ]
  },
  {
   "cell_type": "code",
   "execution_count": 25,
   "metadata": {},
   "outputs": [],
   "source": [
    "data_final['Relationship']=data_final.groupby('Relationship')['Salary_Group'].transform('sum')\n",
    "data_final['Relationship']=data_final['Relationship']/len(data_final)*100"
   ]
  },
  {
   "cell_type": "code",
   "execution_count": 26,
   "metadata": {},
   "outputs": [],
   "source": [
    "data_final=data_final.drop('Education',axis=1)"
   ]
  },
  {
   "cell_type": "code",
   "execution_count": 27,
   "metadata": {},
   "outputs": [],
   "source": [
    "data_final=pd.get_dummies(data_final,columns=['Gender','Race'], drop_first=True)"
   ]
  },
  {
   "cell_type": "code",
   "execution_count": 29,
   "metadata": {},
   "outputs": [
    {
     "data": {
      "text/html": [
       "<div>\n",
       "<style scoped>\n",
       "    .dataframe tbody tr th:only-of-type {\n",
       "        vertical-align: middle;\n",
       "    }\n",
       "\n",
       "    .dataframe tbody tr th {\n",
       "        vertical-align: top;\n",
       "    }\n",
       "\n",
       "    .dataframe thead th {\n",
       "        text-align: right;\n",
       "    }\n",
       "</style>\n",
       "<table border=\"1\" class=\"dataframe\">\n",
       "  <thead>\n",
       "    <tr style=\"text-align: right;\">\n",
       "      <th></th>\n",
       "      <th>Age</th>\n",
       "      <th>Education_Num</th>\n",
       "      <th>Capital_Gain</th>\n",
       "      <th>Capital_Loss</th>\n",
       "      <th>Hours_per_week</th>\n",
       "      <th>Salary_Group</th>\n",
       "      <th>Workclass</th>\n",
       "      <th>Martial_Status</th>\n",
       "      <th>Occupation</th>\n",
       "      <th>Relationship</th>\n",
       "      <th>Country</th>\n",
       "      <th>Gender_Male</th>\n",
       "      <th>Race_Asian-Pac-Islander</th>\n",
       "      <th>Race_Black</th>\n",
       "      <th>Race_Other</th>\n",
       "      <th>Race_White</th>\n",
       "    </tr>\n",
       "  </thead>\n",
       "  <tbody>\n",
       "    <tr>\n",
       "      <th>0</th>\n",
       "      <td>39.0</td>\n",
       "      <td>13.0</td>\n",
       "      <td>2174.0</td>\n",
       "      <td>0.0</td>\n",
       "      <td>40.0</td>\n",
       "      <td>0.0</td>\n",
       "      <td>1.067703</td>\n",
       "      <td>1.500260</td>\n",
       "      <td>1.555014</td>\n",
       "      <td>2.625455</td>\n",
       "      <td>22.473787</td>\n",
       "      <td>1</td>\n",
       "      <td>0</td>\n",
       "      <td>0</td>\n",
       "      <td>0</td>\n",
       "      <td>1</td>\n",
       "    </tr>\n",
       "    <tr>\n",
       "      <th>1</th>\n",
       "      <td>50.0</td>\n",
       "      <td>13.0</td>\n",
       "      <td>0.0</td>\n",
       "      <td>0.0</td>\n",
       "      <td>13.0</td>\n",
       "      <td>0.0</td>\n",
       "      <td>2.217538</td>\n",
       "      <td>20.579298</td>\n",
       "      <td>5.970926</td>\n",
       "      <td>18.222137</td>\n",
       "      <td>22.473787</td>\n",
       "      <td>1</td>\n",
       "      <td>0</td>\n",
       "      <td>0</td>\n",
       "      <td>0</td>\n",
       "      <td>1</td>\n",
       "    </tr>\n",
       "  </tbody>\n",
       "</table>\n",
       "</div>"
      ],
      "text/plain": [
       "    Age  Education_Num  Capital_Gain  Capital_Loss  Hours_per_week  \\\n",
       "0  39.0           13.0        2174.0           0.0            40.0   \n",
       "1  50.0           13.0           0.0           0.0            13.0   \n",
       "\n",
       "   Salary_Group  Workclass  Martial_Status  Occupation  Relationship  \\\n",
       "0           0.0   1.067703        1.500260    1.555014      2.625455   \n",
       "1           0.0   2.217538       20.579298    5.970926     18.222137   \n",
       "\n",
       "     Country  Gender_Male  Race_Asian-Pac-Islander  Race_Black  Race_Other  \\\n",
       "0  22.473787            1                        0           0           0   \n",
       "1  22.473787            1                        0           0           0   \n",
       "\n",
       "   Race_White  \n",
       "0           1  \n",
       "1           1  "
      ]
     },
     "execution_count": 29,
     "metadata": {},
     "output_type": "execute_result"
    }
   ],
   "source": [
    "data_final.head(2)"
   ]
  },
  {
   "cell_type": "code",
   "execution_count": 30,
   "metadata": {},
   "outputs": [],
   "source": [
    "from sklearn.model_selection import train_test_split\n",
    "from sklearn.linear_model import LogisticRegression\n",
    "inp=data_final.drop('Salary_Group',axis=1)\n",
    "out=data_final['Salary_Group']\n",
    "xtrain,xtest,ytrain,ytest=train_test_split(inp,out,test_size=0.3,random_state=48)\n",
    "\n",
    "lm=LogisticRegression()\n",
    "lm.fit(xtrain,ytrain)\n",
    "ypred=lm.predict(xtest)\n",
    "\n",
    "from sklearn.metrics import classification_report,confusion_matrix\n",
    "\n",
    "print(classification_report(ytest,ypred))"
   ]
  },
  {
   "cell_type": "code",
   "execution_count": 31,
   "metadata": {},
   "outputs": [],
   "source": [
    "inp=data_final.drop('Salary_Group',axis=1)\n",
    "out=data_final['Salary_Group']"
   ]
  },
  {
   "cell_type": "code",
   "execution_count": 32,
   "metadata": {},
   "outputs": [],
   "source": [
    "xtrain,xtest,ytrain,ytest=train_test_split(inp,out,test_size=0.3,random_state=48)"
   ]
  },
  {
   "cell_type": "code",
   "execution_count": 33,
   "metadata": {},
   "outputs": [],
   "source": [
    "lm=LogisticRegression()\n",
    "lm.fit(xtrain,ytrain)\n",
    "ypred=lm.predict(xtest)"
   ]
  },
  {
   "cell_type": "code",
   "execution_count": 34,
   "metadata": {},
   "outputs": [],
   "source": [
    "from sklearn.metrics import classification_report,confusion_matrix"
   ]
  },
  {
   "cell_type": "code",
   "execution_count": 35,
   "metadata": {},
   "outputs": [
    {
     "name": "stdout",
     "output_type": "stream",
     "text": [
      "              precision    recall  f1-score   support\n",
      "\n",
      "         0.0       0.84      0.91      0.87      8276\n",
      "         1.0       0.62      0.45      0.52      2683\n",
      "\n",
      "    accuracy                           0.80     10959\n",
      "   macro avg       0.73      0.68      0.70     10959\n",
      "weighted avg       0.78      0.80      0.79     10959\n",
      "\n"
     ]
    }
   ],
   "source": [
    "print(classification_report(ytest,ypred))\n",
    "\n",
    "#one class performance is good while other class is not good? Reason could be Imbalance which we are dealing below"
   ]
  },
  {
   "cell_type": "code",
   "execution_count": 111,
   "metadata": {},
   "outputs": [
    {
     "data": {
      "text/plain": [
       "0.0    27721\n",
       "1.0     8806\n",
       "Name: Salary_Group, dtype: int64"
      ]
     },
     "execution_count": 111,
     "metadata": {},
     "output_type": "execute_result"
    }
   ],
   "source": [
    "data_final['Salary_Group'].value_counts()"
   ]
  },
  {
   "cell_type": "code",
   "execution_count": 37,
   "metadata": {},
   "outputs": [],
   "source": [
    "from imblearn.over_sampling import SMOTE\n",
    "from imblearn.under_sampling import NearMiss \n",
    "from imblearn.pipeline import make_pipeline"
   ]
  },
  {
   "cell_type": "code",
   "execution_count": 38,
   "metadata": {},
   "outputs": [],
   "source": [
    "count_class_0 = 20000\n",
    "count_class_1 = 14000\n",
    "pipe = make_pipeline(SMOTE(sampling_strategy={1: count_class_1})\n",
    "                    ,NearMiss(sampling_strategy={0: count_class_0}))\n",
    "inp_bal, out_bal = pipe.fit_resample(inp, out)"
   ]
  },
  {
   "cell_type": "code",
   "execution_count": 39,
   "metadata": {},
   "outputs": [],
   "source": [
    "xtrain,xtest,ytrain,ytest=train_test_split(inp_bal,out_bal,test_size=0.3,random_state=48)"
   ]
  },
  {
   "cell_type": "code",
   "execution_count": 40,
   "metadata": {},
   "outputs": [],
   "source": [
    "lm=LogisticRegression()\n",
    "lm.fit(xtrain,ytrain)\n",
    "ypred=lm.predict(xtest)"
   ]
  },
  {
   "cell_type": "code",
   "execution_count": 41,
   "metadata": {},
   "outputs": [
    {
     "name": "stdout",
     "output_type": "stream",
     "text": [
      "              precision    recall  f1-score   support\n",
      "\n",
      "         0.0       0.78      0.86      0.82      6016\n",
      "         1.0       0.77      0.66      0.71      4184\n",
      "\n",
      "    accuracy                           0.78     10200\n",
      "   macro avg       0.78      0.76      0.76     10200\n",
      "weighted avg       0.78      0.78      0.77     10200\n",
      "\n"
     ]
    }
   ],
   "source": [
    "print(classification_report(ytest,ypred))\n",
    "\n",
    "#Now we have improved performance of the Model and its some what good and eqal as possible."
   ]
  },
  {
   "cell_type": "code",
   "execution_count": 42,
   "metadata": {},
   "outputs": [],
   "source": [
    "prob=lm.predict_proba(xtest)\n",
    "prob_1=prob[:,1]"
   ]
  },
  {
   "cell_type": "code",
   "execution_count": 43,
   "metadata": {},
   "outputs": [
    {
     "name": "stdout",
     "output_type": "stream",
     "text": [
      "The report for Th =  0.2\n",
      "[[2937 3079]\n",
      " [ 217 3967]]\n",
      "              precision    recall  f1-score   support\n",
      "\n",
      "         0.0       0.93      0.49      0.64      6016\n",
      "         1.0       0.56      0.95      0.71      4184\n",
      "\n",
      "    accuracy                           0.68     10200\n",
      "   macro avg       0.75      0.72      0.67     10200\n",
      "weighted avg       0.78      0.68      0.67     10200\n",
      "\n",
      "The report for Th =  0.3\n",
      "[[3789 2227]\n",
      " [ 496 3688]]\n",
      "              precision    recall  f1-score   support\n",
      "\n",
      "         0.0       0.88      0.63      0.74      6016\n",
      "         1.0       0.62      0.88      0.73      4184\n",
      "\n",
      "    accuracy                           0.73     10200\n",
      "   macro avg       0.75      0.76      0.73     10200\n",
      "weighted avg       0.78      0.73      0.73     10200\n",
      "\n",
      "The report for Th =  0.4\n",
      "[[4570 1446]\n",
      " [ 940 3244]]\n",
      "              precision    recall  f1-score   support\n",
      "\n",
      "         0.0       0.83      0.76      0.79      6016\n",
      "         1.0       0.69      0.78      0.73      4184\n",
      "\n",
      "    accuracy                           0.77     10200\n",
      "   macro avg       0.76      0.77      0.76     10200\n",
      "weighted avg       0.77      0.77      0.77     10200\n",
      "\n",
      "The report for Th =  0.5\n",
      "[[5199  817]\n",
      " [1443 2741]]\n",
      "              precision    recall  f1-score   support\n",
      "\n",
      "         0.0       0.78      0.86      0.82      6016\n",
      "         1.0       0.77      0.66      0.71      4184\n",
      "\n",
      "    accuracy                           0.78     10200\n",
      "   macro avg       0.78      0.76      0.76     10200\n",
      "weighted avg       0.78      0.78      0.77     10200\n",
      "\n",
      "The report for Th =  0.6\n",
      "[[5426  590]\n",
      " [1734 2450]]\n",
      "              precision    recall  f1-score   support\n",
      "\n",
      "         0.0       0.76      0.90      0.82      6016\n",
      "         1.0       0.81      0.59      0.68      4184\n",
      "\n",
      "    accuracy                           0.77     10200\n",
      "   macro avg       0.78      0.74      0.75     10200\n",
      "weighted avg       0.78      0.77      0.76     10200\n",
      "\n",
      "The report for Th =  0.8\n",
      "[[5925   91]\n",
      " [2687 1497]]\n",
      "              precision    recall  f1-score   support\n",
      "\n",
      "         0.0       0.69      0.98      0.81      6016\n",
      "         1.0       0.94      0.36      0.52      4184\n",
      "\n",
      "    accuracy                           0.73     10200\n",
      "   macro avg       0.82      0.67      0.66     10200\n",
      "weighted avg       0.79      0.73      0.69     10200\n",
      "\n"
     ]
    }
   ],
   "source": [
    "for i in [0.2,0.3,0.4,0.5,0.6,0.8]:\n",
    "    ypred1=np.zeros([len(ytest),1])\n",
    "    ypred1[prob_1>=i]=1\n",
    "    print(\"The report for Th = \",i)\n",
    "    print(confusion_matrix(ytest,ypred1))\n",
    "    print(classification_report(ytest,ypred1))\n",
    "    "
   ]
  },
  {
   "cell_type": "raw",
   "metadata": {},
   "source": [
    "Can Check youden index and Cost function and see if it improves even further"
   ]
  },
  {
   "cell_type": "raw",
   "metadata": {},
   "source": [
    "Now we know base model performance for both imbalanced data, partially balanced data.\n",
    "Now we are applying other non linear models."
   ]
  },
  {
   "cell_type": "code",
   "execution_count": 44,
   "metadata": {},
   "outputs": [],
   "source": [
    "from sklearn.tree import DecisionTreeClassifier\n",
    "from sklearn.neighbors import KNeighborsClassifier\n",
    "from sklearn.linear_model import LogisticRegression\n",
    "from sklearn.ensemble import RandomForestClassifier\n",
    "from sklearn.naive_bayes import GaussianNB\n",
    "from xgboost import XGBClassifier\n",
    "from sklearn.model_selection import cross_val_score,KFold"
   ]
  },
  {
   "cell_type": "code",
   "execution_count": 45,
   "metadata": {},
   "outputs": [],
   "source": [
    "clf1 = LogisticRegression(max_iter=3000)\n",
    "clf2= DecisionTreeClassifier(random_state=0)\n",
    "clf3=  RandomForestClassifier(random_state=0)\n",
    "clf4 = KNeighborsClassifier(n_neighbors=5) \n",
    "clf5= GaussianNB()\n",
    "clf6=XGBClassifier(random_state=0)"
   ]
  },
  {
   "cell_type": "code",
   "execution_count": 46,
   "metadata": {},
   "outputs": [],
   "source": [
    "kf=KFold(n_splits=5,shuffle=True,random_state=0)"
   ]
  },
  {
   "cell_type": "code",
   "execution_count": 47,
   "metadata": {},
   "outputs": [
    {
     "name": "stdout",
     "output_type": "stream",
     "text": [
      "LR 0.8150588235294117 0.007460705038914762\n",
      "DT 0.8103823529411762 0.0051870779150686675\n",
      "RF 0.8484411764705883 0.004393930940011614\n",
      "KNN 0.8220588235294117 0.006294315594189321\n",
      "GNB 0.7179117647058824 0.005766815962882327\n",
      "XGB 0.866235294117647 0.007039612039508859\n"
     ]
    }
   ],
   "source": [
    "for i,j in zip([clf1,clf2,clf3,clf4,clf5,clf6],['LR','DT','RF','KNN','GNB','XGB']):\n",
    "    score = cross_val_score(i, inp_bal, out_bal, cv=kf, scoring='accuracy')\n",
    "    print(j,np.mean(score),np.std(score)/np.mean(score))"
   ]
  },
  {
   "cell_type": "code",
   "execution_count": 48,
   "metadata": {},
   "outputs": [
    {
     "name": "stdout",
     "output_type": "stream",
     "text": [
      "LR 0.9050251189850721 0.005278148167631491\n",
      "DT 0.8178492490366361 0.006175360624048297\n",
      "RF 0.9256036135862263 0.004013530266992375\n",
      "KNN 0.8935697517515357 0.0050579733209833505\n",
      "GNB 0.8847227353969661 0.006021800810313691\n",
      "XGB 0.9421009680981871 0.003580788659216921\n"
     ]
    }
   ],
   "source": [
    "for i,j in zip([clf1,clf2,clf3,clf4,clf5,clf6],['LR','DT','RF','KNN','GNB','XGB']):\n",
    "    score = cross_val_score(i, inp_bal, out_bal, cv=kf, scoring='roc_auc')\n",
    "    print(j,np.mean(score),np.std(score)/np.mean(score))"
   ]
  },
  {
   "cell_type": "code",
   "execution_count": 49,
   "metadata": {},
   "outputs": [
    {
     "name": "stdout",
     "output_type": "stream",
     "text": [
      "LR 0.7633697315296748 0.010639370472498117\n",
      "DT 0.7668596781581595 0.007023331365043273\n",
      "RF 0.811642981685527 0.006399540701020579\n",
      "KNN 0.7838583418118559 0.009349513737719091\n",
      "GNB 0.4832593900595709 0.02666271856017359\n",
      "XGB 0.8329968547150838 0.00914188179098438\n"
     ]
    }
   ],
   "source": [
    "for i,j in zip([clf1,clf2,clf3,clf4,clf5,clf6],['LR','DT','RF','KNN','GNB','XGB']):\n",
    "    score = cross_val_score(i, inp_bal, out_bal, cv=kf, scoring='f1')\n",
    "    print(j,np.mean(score),np.std(score)/np.mean(score))"
   ]
  },
  {
   "cell_type": "code",
   "execution_count": 50,
   "metadata": {},
   "outputs": [
    {
     "name": "stdout",
     "output_type": "stream",
     "text": [
      "LR 0.8989198210608595 0.002384020401393769\n",
      "DT 0.7710718894676816 0.005401157241002866\n",
      "RF 0.9024231645997516 0.002573337980175636\n",
      "KNN 0.8836767586164547 0.003765416888283441\n",
      "GNB 0.8763021219557865 0.0024085509441939823\n",
      "XGB 0.9305554251294861 0.0027959411482692824\n"
     ]
    }
   ],
   "source": [
    "#Same one we are doing with imbalanced data below\n",
    "\n",
    "for i,j in zip([clf1,clf2,clf3,clf4,clf5,clf6],['LR','DT','RF','KNN','GNB','XGB']):\n",
    "    score = cross_val_score(i, inp, out, cv=kf, scoring='roc_auc')\n",
    "    print(j,np.mean(score),np.std(score)/np.mean(score))"
   ]
  },
  {
   "cell_type": "code",
   "execution_count": 73,
   "metadata": {},
   "outputs": [],
   "source": [
    "# Voting Classifier or Stacking - here we have done voting classifier\n",
    "#whatever algorithm is doing only include in the VotingClassifier\n",
    "from sklearn.ensemble import VotingClassifier\n",
    "estimator=[('lr',LogisticRegression(max_iter=3000)),('KNN',KNeighborsClassifier()),('rf',RandomForestClassifier()),('nb',GaussianNB()),\n",
    "          ('xb',XGBClassifier())]"
   ]
  },
  {
   "cell_type": "code",
   "execution_count": 74,
   "metadata": {},
   "outputs": [],
   "source": [
    "vot1=VotingClassifier(estimators=estimator, voting='hard')\n",
    "vot2=VotingClassifier(estimators=estimator, voting='soft')"
   ]
  },
  {
   "cell_type": "code",
   "execution_count": 76,
   "metadata": {},
   "outputs": [
    {
     "name": "stdout",
     "output_type": "stream",
     "text": [
      "vot1 0.8031841879073202 0.008230372090854303\n",
      "vot2 0.7932049114831894 0.005881790278420995\n"
     ]
    }
   ],
   "source": [
    "score_vot1 = cross_val_score(vot1, inp_bal, out_bal, cv=kf, scoring='f1')\n",
    "score_vot2 = cross_val_score(vot2, inp_bal, out_bal, cv=kf, scoring='f1')\n",
    "print('vot1',np.mean(score_vot1),np.std(score_vot1)/np.mean(score_vot1))\n",
    "print('vot2',np.mean(score_vot2),np.std(score_vot2)/np.mean(score_vot2))\n",
    "\n",
    "#Not actually doing do as RF=81 got reduced to 80"
   ]
  },
  {
   "cell_type": "code",
   "execution_count": null,
   "metadata": {},
   "outputs": [],
   "source": []
  },
  {
   "cell_type": "raw",
   "metadata": {},
   "source": [
    "Whatever model is doing good pick those models and then tune it - Here RandomForrest and XGBoost models"
   ]
  },
  {
   "cell_type": "code",
   "execution_count": 51,
   "metadata": {},
   "outputs": [],
   "source": [
    "rf=RandomForestClassifier()\n",
    "rf.fit(xtrain,ytrain)\n",
    "ypred=rf.predict(xtest)"
   ]
  },
  {
   "cell_type": "code",
   "execution_count": 52,
   "metadata": {},
   "outputs": [],
   "source": [
    "feat_imp=pd.DataFrame()\n",
    "feat_imp['Feature']=xtrain.columns\n",
    "feat_imp['Importance']=rf.feature_importances_"
   ]
  },
  {
   "cell_type": "code",
   "execution_count": 53,
   "metadata": {},
   "outputs": [
    {
     "data": {
      "text/html": [
       "<div>\n",
       "<style scoped>\n",
       "    .dataframe tbody tr th:only-of-type {\n",
       "        vertical-align: middle;\n",
       "    }\n",
       "\n",
       "    .dataframe tbody tr th {\n",
       "        vertical-align: top;\n",
       "    }\n",
       "\n",
       "    .dataframe thead th {\n",
       "        text-align: right;\n",
       "    }\n",
       "</style>\n",
       "<table border=\"1\" class=\"dataframe\">\n",
       "  <thead>\n",
       "    <tr style=\"text-align: right;\">\n",
       "      <th></th>\n",
       "      <th>Feature</th>\n",
       "      <th>Importance</th>\n",
       "    </tr>\n",
       "  </thead>\n",
       "  <tbody>\n",
       "    <tr>\n",
       "      <th>0</th>\n",
       "      <td>Age</td>\n",
       "      <td>0.203119</td>\n",
       "    </tr>\n",
       "    <tr>\n",
       "      <th>1</th>\n",
       "      <td>Education_Num</td>\n",
       "      <td>0.136041</td>\n",
       "    </tr>\n",
       "    <tr>\n",
       "      <th>7</th>\n",
       "      <td>Occupation</td>\n",
       "      <td>0.134286</td>\n",
       "    </tr>\n",
       "    <tr>\n",
       "      <th>6</th>\n",
       "      <td>Martial_Status</td>\n",
       "      <td>0.132606</td>\n",
       "    </tr>\n",
       "    <tr>\n",
       "      <th>4</th>\n",
       "      <td>Hours_per_week</td>\n",
       "      <td>0.101646</td>\n",
       "    </tr>\n",
       "    <tr>\n",
       "      <th>2</th>\n",
       "      <td>Capital_Gain</td>\n",
       "      <td>0.095832</td>\n",
       "    </tr>\n",
       "    <tr>\n",
       "      <th>8</th>\n",
       "      <td>Relationship</td>\n",
       "      <td>0.079123</td>\n",
       "    </tr>\n",
       "    <tr>\n",
       "      <th>5</th>\n",
       "      <td>Workclass</td>\n",
       "      <td>0.041871</td>\n",
       "    </tr>\n",
       "    <tr>\n",
       "      <th>3</th>\n",
       "      <td>Capital_Loss</td>\n",
       "      <td>0.034694</td>\n",
       "    </tr>\n",
       "    <tr>\n",
       "      <th>9</th>\n",
       "      <td>Country</td>\n",
       "      <td>0.014746</td>\n",
       "    </tr>\n",
       "    <tr>\n",
       "      <th>10</th>\n",
       "      <td>Gender_Male</td>\n",
       "      <td>0.010299</td>\n",
       "    </tr>\n",
       "    <tr>\n",
       "      <th>14</th>\n",
       "      <td>Race_White</td>\n",
       "      <td>0.006604</td>\n",
       "    </tr>\n",
       "    <tr>\n",
       "      <th>12</th>\n",
       "      <td>Race_Black</td>\n",
       "      <td>0.005398</td>\n",
       "    </tr>\n",
       "    <tr>\n",
       "      <th>11</th>\n",
       "      <td>Race_Asian-Pac-Islander</td>\n",
       "      <td>0.002737</td>\n",
       "    </tr>\n",
       "    <tr>\n",
       "      <th>13</th>\n",
       "      <td>Race_Other</td>\n",
       "      <td>0.000997</td>\n",
       "    </tr>\n",
       "  </tbody>\n",
       "</table>\n",
       "</div>"
      ],
      "text/plain": [
       "                    Feature  Importance\n",
       "0                       Age    0.203119\n",
       "1             Education_Num    0.136041\n",
       "7                Occupation    0.134286\n",
       "6            Martial_Status    0.132606\n",
       "4            Hours_per_week    0.101646\n",
       "2              Capital_Gain    0.095832\n",
       "8              Relationship    0.079123\n",
       "5                 Workclass    0.041871\n",
       "3              Capital_Loss    0.034694\n",
       "9                   Country    0.014746\n",
       "10              Gender_Male    0.010299\n",
       "14               Race_White    0.006604\n",
       "12               Race_Black    0.005398\n",
       "11  Race_Asian-Pac-Islander    0.002737\n",
       "13               Race_Other    0.000997"
      ]
     },
     "execution_count": 53,
     "metadata": {},
     "output_type": "execute_result"
    }
   ],
   "source": [
    "feat_imp.sort_values('Importance',ascending=False)\n",
    "\n",
    "#Age plays major factor in deciding the Salary(Target) column"
   ]
  },
  {
   "cell_type": "code",
   "execution_count": 54,
   "metadata": {},
   "outputs": [],
   "source": [
    "from treeinterpreter import treeinterpreter as ti"
   ]
  },
  {
   "cell_type": "code",
   "execution_count": 55,
   "metadata": {},
   "outputs": [
    {
     "data": {
      "text/plain": [
       "Age                        46.000000\n",
       "Education_Num               9.000000\n",
       "Capital_Gain                0.000000\n",
       "Capital_Loss                0.000000\n",
       "Hours_per_week             30.000000\n",
       "Workclass                  15.870452\n",
       "Martial_Status              1.420867\n",
       "Occupation                  0.865113\n",
       "Relationship                2.625455\n",
       "Country                    22.473787\n",
       "Gender_Male                 0.000000\n",
       "Race_Asian-Pac-Islander     0.000000\n",
       "Race_Black                  0.000000\n",
       "Race_Other                  0.000000\n",
       "Race_White                  1.000000\n",
       "Name: 18476, dtype: float64"
      ]
     },
     "execution_count": 55,
     "metadata": {},
     "output_type": "execute_result"
    }
   ],
   "source": [
    " xtest.iloc[50,:]"
   ]
  },
  {
   "cell_type": "code",
   "execution_count": 56,
   "metadata": {},
   "outputs": [
    {
     "data": {
      "text/plain": [
       "array([[46.        ,  9.        ,  0.        ,  0.        , 30.        ,\n",
       "        15.87045199,  1.42086676,  0.86511348,  2.62545514, 22.47378651,\n",
       "         0.        ,  0.        ,  0.        ,  0.        ,  1.        ]])"
      ]
     },
     "execution_count": 56,
     "metadata": {},
     "output_type": "execute_result"
    }
   ],
   "source": [
    "obser = xtest.iloc[50,:].values.reshape(1,-1)\n",
    "obser"
   ]
  },
  {
   "cell_type": "code",
   "execution_count": 98,
   "metadata": {},
   "outputs": [],
   "source": [
    "prediction, bias, contributions = ti.predict(rf,obser)"
   ]
  },
  {
   "cell_type": "code",
   "execution_count": 103,
   "metadata": {},
   "outputs": [
    {
     "data": {
      "text/plain": [
       "array([[1., 0.]])"
      ]
     },
     "execution_count": 103,
     "metadata": {},
     "output_type": "execute_result"
    }
   ],
   "source": [
    "prediction"
   ]
  },
  {
   "cell_type": "code",
   "execution_count": 60,
   "metadata": {},
   "outputs": [
    {
     "data": {
      "text/plain": [
       "0.0"
      ]
     },
     "execution_count": 60,
     "metadata": {},
     "output_type": "execute_result"
    }
   ],
   "source": [
    "ytest.iloc[50]"
   ]
  },
  {
   "cell_type": "code",
   "execution_count": 100,
   "metadata": {},
   "outputs": [
    {
     "data": {
      "text/plain": [
       "array([[[ 0.067, -0.067],\n",
       "        [ 0.037, -0.037],\n",
       "        [ 0.021, -0.021],\n",
       "        [ 0.006, -0.006],\n",
       "        [ 0.021, -0.021],\n",
       "        [ 0.006, -0.006],\n",
       "        [ 0.141, -0.141],\n",
       "        [ 0.017, -0.017],\n",
       "        [ 0.101, -0.101],\n",
       "        [ 0.   , -0.   ],\n",
       "        [-0.002,  0.002],\n",
       "        [ 0.   , -0.   ],\n",
       "        [-0.002,  0.002],\n",
       "        [-0.   ,  0.   ],\n",
       "        [-0.   ,  0.   ]]])"
      ]
     },
     "execution_count": 100,
     "metadata": {},
     "output_type": "execute_result"
    }
   ],
   "source": [
    "np.round(contributions,3)"
   ]
  },
  {
   "cell_type": "code",
   "execution_count": 101,
   "metadata": {},
   "outputs": [
    {
     "data": {
      "text/plain": [
       "array([[0.58732647, 0.41267353]])"
      ]
     },
     "execution_count": 101,
     "metadata": {},
     "output_type": "execute_result"
    }
   ],
   "source": [
    "bias"
   ]
  },
  {
   "cell_type": "code",
   "execution_count": 109,
   "metadata": {},
   "outputs": [
    {
     "data": {
      "text/plain": [
       "1.0"
      ]
     },
     "execution_count": 109,
     "metadata": {},
     "output_type": "execute_result"
    }
   ],
   "source": [
    "np.sum(contributions[0][:,0]) + bias[0][0]"
   ]
  },
  {
   "cell_type": "code",
   "execution_count": 111,
   "metadata": {},
   "outputs": [
    {
     "data": {
      "text/plain": [
       "-0.0"
      ]
     },
     "execution_count": 111,
     "metadata": {},
     "output_type": "execute_result"
    }
   ],
   "source": [
    "np.round(np.sum(contributions[0][:,1]) + bias[0][1])"
   ]
  },
  {
   "cell_type": "code",
   "execution_count": 66,
   "metadata": {},
   "outputs": [
    {
     "name": "stdout",
     "output_type": "stream",
     "text": [
      "n_estimator: 5\n",
      "Bias Error 0.20560777023726662\n",
      "Variance Error 0.004670226035631353\n",
      "n_estimator: 10\n",
      "Bias Error 0.20073133686288092\n",
      "Variance Error 0.006138235513966174\n",
      "n_estimator: 20\n",
      "Bias Error 0.19540825010672513\n",
      "Variance Error 0.006238078198674747\n",
      "n_estimator: 40\n",
      "Bias Error 0.19069849994818622\n",
      "Variance Error 0.004631537614899288\n",
      "n_estimator: 60\n",
      "Bias Error 0.1886983392199646\n",
      "Variance Error 0.003980810746554363\n",
      "n_estimator: 80\n",
      "Bias Error 0.1883090221820083\n",
      "Variance Error 0.004616904892296803\n",
      "n_estimator: 100\n",
      "Bias Error 0.18745376862741148\n",
      "Variance Error 0.004967844521680093\n",
      "n_estimator: 120\n",
      "Bias Error 0.1876877171322271\n",
      "Variance Error 0.004946021686830334\n",
      "n_estimator: 150\n",
      "Bias Error 0.1877866496479882\n",
      "Variance Error 0.005057665107292359\n",
      "n_estimator: 200\n",
      "Bias Error 0.18792424953001297\n",
      "Variance Error 0.005223477047089322\n",
      "n_estimator: 250\n",
      "Bias Error 0.18755010706185948\n",
      "Variance Error 0.005932183704945998\n",
      "n_estimator: 300\n",
      "Bias Error 0.1874493634115314\n",
      "Variance Error 0.005661315327148637\n",
      "n_estimator: 400\n",
      "Bias Error 0.1870770958671667\n",
      "Variance Error 0.006432106650580119\n"
     ]
    }
   ],
   "source": [
    "# Parameter Tuning\n",
    "be=[]\n",
    "ve=[]\n",
    "for i in [5,10,20,40,60,80,100,120,150,200,250,300,400]:\n",
    "    #for j in [10,15,20,30]:\n",
    "    dt=RandomForestClassifier(n_estimators=i,random_state=48)\n",
    "    #scorer = make_scorer(f1_score, average = 'weighted')\n",
    "    score=cross_val_score(dt,inp_bal,out_bal,cv=kf,scoring='f1')\n",
    "    print('n_estimator:',i)\n",
    "    print('Bias Error',1-np.mean(score))\n",
    "    print('Variance Error',np.std(score)/np.mean(score))\n",
    "    be.append(1-np.mean(score))\n",
    "    ve.append(np.std(score)/np.mean(score))"
   ]
  },
  {
   "cell_type": "code",
   "execution_count": 77,
   "metadata": {},
   "outputs": [
    {
     "data": {
      "text/plain": [
       "[<matplotlib.lines.Line2D at 0x1c38a718708>]"
      ]
     },
     "execution_count": 77,
     "metadata": {},
     "output_type": "execute_result"
    },
    {
     "data": {
      "image/png": "[encoded data removed]",
      "text/plain": [
       "<Figure size 432x288 with 1 Axes>"
      ]
     },
     "metadata": {
      "needs_background": "light"
     },
     "output_type": "display_data"
    }
   ],
   "source": [
    "from matplotlib import pyplot as plt\n",
    "plt.plot([5,10,20,40,60,80,100,120,150,200,250,300,400],be)"
   ]
  },
  {
   "cell_type": "code",
   "execution_count": 74,
   "metadata": {},
   "outputs": [
    {
     "data": {
      "text/plain": [
       "[<matplotlib.lines.Line2D at 0x1c38a56bfc8>]"
      ]
     },
     "execution_count": 74,
     "metadata": {},
     "output_type": "execute_result"
    },
    {
     "data": {
      "image/png": "[encoded data removed]",
      "text/plain": [
       "<Figure size 432x288 with 1 Axes>"
      ]
     },
     "metadata": {
      "needs_background": "light"
     },
     "output_type": "display_data"
    }
   ],
   "source": [
    "plt.plot([5,10,20,40,60,80,100,120,150,200,250,300,400],ve)"
   ]
  },
  {
   "cell_type": "code",
   "execution_count": 100,
   "metadata": {},
   "outputs": [],
   "source": [
    "be1=pd.DataFrame(be)/pd.DataFrame(be).sum()\n",
    "ve1=pd.DataFrame(ve)/pd.DataFrame(ve).sum()"
   ]
  },
  {
   "cell_type": "code",
   "execution_count": 101,
   "metadata": {},
   "outputs": [
    {
     "data": {
      "text/plain": [
       "[<matplotlib.lines.Line2D at 0x1c38b0d7d88>]"
      ]
     },
     "execution_count": 101,
     "metadata": {},
     "output_type": "execute_result"
    },
    {
     "data": {
      "image/png": "[encoded data removed]",
      "text/plain": [
       "<Figure size 432x288 with 1 Axes>"
      ]
     },
     "metadata": {
      "needs_background": "light"
     },
     "output_type": "display_data"
    }
   ],
   "source": [
    "plt.plot([5,10,20,40,60,80,100,120,150,200,250,300,400],be1)\n",
    "plt.plot([5,10,20,40,60,80,100,120,150,200,250,300,400],ve1)"
   ]
  },
  {
   "cell_type": "code",
   "execution_count": 88,
   "metadata": {},
   "outputs": [],
   "source": [
    "# Grid Search CV\n",
    "from sklearn.model_selection import GridSearchCV\n",
    "\n",
    "params={'n_estimators':[20,40,60,80,100,120,140,160],\n",
    "        #'max_features':['auto','sqrt','log2'],\n",
    "        #'criterion':['gini','entropy'],\n",
    "        'max_depth':[10,15,20,25,30,40]}"
   ]
  },
  {
   "cell_type": "code",
   "execution_count": 89,
   "metadata": {},
   "outputs": [],
   "source": [
    "rf_mod1=RandomForestClassifier()\n",
    "hyp_mod=GridSearchCV(rf_mod1,param_grid=params,scoring='f1')"
   ]
  },
  {
   "cell_type": "code",
   "execution_count": 90,
   "metadata": {},
   "outputs": [],
   "source": [
    "tun_mod=hyp_mod.fit(xtrain,ytrain)"
   ]
  },
  {
   "cell_type": "code",
   "execution_count": 92,
   "metadata": {},
   "outputs": [
    {
     "data": {
      "text/plain": [
       "{'max_depth': 20, 'n_estimators': 100}"
      ]
     },
     "execution_count": 92,
     "metadata": {},
     "output_type": "execute_result"
    }
   ],
   "source": [
    "tun_mod.best_params_"
   ]
  },
  {
   "cell_type": "code",
   "execution_count": 93,
   "metadata": {},
   "outputs": [
    {
     "data": {
      "text/plain": [
       "0.8171460646397776"
      ]
     },
     "execution_count": 93,
     "metadata": {},
     "output_type": "execute_result"
    }
   ],
   "source": [
    "tun_mod.best_score_"
   ]
  },
  {
   "cell_type": "code",
   "execution_count": 113,
   "metadata": {},
   "outputs": [
    {
     "data": {
      "text/plain": [
       "(48, 15)"
      ]
     },
     "execution_count": 113,
     "metadata": {},
     "output_type": "execute_result"
    }
   ],
   "source": [
    "res=pd.DataFrame(tun_mod.cv_results_)\n",
    "res.shape"
   ]
  },
  {
   "cell_type": "code",
   "execution_count": 115,
   "metadata": {},
   "outputs": [
    {
     "data": {
      "text/html": [
       "<div>\n",
       "<style scoped>\n",
       "    .dataframe tbody tr th:only-of-type {\n",
       "        vertical-align: middle;\n",
       "    }\n",
       "\n",
       "    .dataframe tbody tr th {\n",
       "        vertical-align: top;\n",
       "    }\n",
       "\n",
       "    .dataframe thead th {\n",
       "        text-align: right;\n",
       "    }\n",
       "</style>\n",
       "<table border=\"1\" class=\"dataframe\">\n",
       "  <thead>\n",
       "    <tr style=\"text-align: right;\">\n",
       "      <th></th>\n",
       "      <th>mean_fit_time</th>\n",
       "      <th>std_fit_time</th>\n",
       "      <th>mean_score_time</th>\n",
       "      <th>std_score_time</th>\n",
       "      <th>param_max_depth</th>\n",
       "      <th>param_n_estimators</th>\n",
       "      <th>params</th>\n",
       "      <th>split0_test_score</th>\n",
       "      <th>split1_test_score</th>\n",
       "      <th>split2_test_score</th>\n",
       "      <th>split3_test_score</th>\n",
       "      <th>split4_test_score</th>\n",
       "      <th>mean_test_score</th>\n",
       "      <th>std_test_score</th>\n",
       "      <th>rank_test_score</th>\n",
       "    </tr>\n",
       "  </thead>\n",
       "  <tbody>\n",
       "    <tr>\n",
       "      <th>0</th>\n",
       "      <td>0.227407</td>\n",
       "      <td>0.019231</td>\n",
       "      <td>0.018388</td>\n",
       "      <td>0.004327</td>\n",
       "      <td>10</td>\n",
       "      <td>20</td>\n",
       "      <td>{'max_depth': 10, 'n_estimators': 20}</td>\n",
       "      <td>0.786684</td>\n",
       "      <td>0.796248</td>\n",
       "      <td>0.787576</td>\n",
       "      <td>0.798855</td>\n",
       "      <td>0.795902</td>\n",
       "      <td>0.793053</td>\n",
       "      <td>0.004951</td>\n",
       "      <td>46</td>\n",
       "    </tr>\n",
       "    <tr>\n",
       "      <th>1</th>\n",
       "      <td>0.458723</td>\n",
       "      <td>0.018214</td>\n",
       "      <td>0.035135</td>\n",
       "      <td>0.001523</td>\n",
       "      <td>10</td>\n",
       "      <td>40</td>\n",
       "      <td>{'max_depth': 10, 'n_estimators': 40}</td>\n",
       "      <td>0.785543</td>\n",
       "      <td>0.794499</td>\n",
       "      <td>0.791981</td>\n",
       "      <td>0.800930</td>\n",
       "      <td>0.800000</td>\n",
       "      <td>0.794591</td>\n",
       "      <td>0.005623</td>\n",
       "      <td>43</td>\n",
       "    </tr>\n",
       "    <tr>\n",
       "      <th>2</th>\n",
       "      <td>0.632625</td>\n",
       "      <td>0.006444</td>\n",
       "      <td>0.051478</td>\n",
       "      <td>0.003396</td>\n",
       "      <td>10</td>\n",
       "      <td>60</td>\n",
       "      <td>{'max_depth': 10, 'n_estimators': 60}</td>\n",
       "      <td>0.784664</td>\n",
       "      <td>0.793220</td>\n",
       "      <td>0.789446</td>\n",
       "      <td>0.800104</td>\n",
       "      <td>0.797162</td>\n",
       "      <td>0.792919</td>\n",
       "      <td>0.005476</td>\n",
       "      <td>47</td>\n",
       "    </tr>\n",
       "    <tr>\n",
       "      <th>3</th>\n",
       "      <td>0.842669</td>\n",
       "      <td>0.021775</td>\n",
       "      <td>0.060698</td>\n",
       "      <td>0.001703</td>\n",
       "      <td>10</td>\n",
       "      <td>80</td>\n",
       "      <td>{'max_depth': 10, 'n_estimators': 80}</td>\n",
       "      <td>0.786038</td>\n",
       "      <td>0.795131</td>\n",
       "      <td>0.790916</td>\n",
       "      <td>0.803952</td>\n",
       "      <td>0.798837</td>\n",
       "      <td>0.794975</td>\n",
       "      <td>0.006195</td>\n",
       "      <td>42</td>\n",
       "    </tr>\n",
       "    <tr>\n",
       "      <th>4</th>\n",
       "      <td>1.051601</td>\n",
       "      <td>0.016299</td>\n",
       "      <td>0.074176</td>\n",
       "      <td>0.005177</td>\n",
       "      <td>10</td>\n",
       "      <td>100</td>\n",
       "      <td>{'max_depth': 10, 'n_estimators': 100}</td>\n",
       "      <td>0.786981</td>\n",
       "      <td>0.793933</td>\n",
       "      <td>0.790175</td>\n",
       "      <td>0.800519</td>\n",
       "      <td>0.796199</td>\n",
       "      <td>0.793561</td>\n",
       "      <td>0.004696</td>\n",
       "      <td>45</td>\n",
       "    </tr>\n",
       "    <tr>\n",
       "      <th>5</th>\n",
       "      <td>1.273510</td>\n",
       "      <td>0.046924</td>\n",
       "      <td>0.091933</td>\n",
       "      <td>0.009932</td>\n",
       "      <td>10</td>\n",
       "      <td>120</td>\n",
       "      <td>{'max_depth': 10, 'n_estimators': 120}</td>\n",
       "      <td>0.783511</td>\n",
       "      <td>0.790407</td>\n",
       "      <td>0.786517</td>\n",
       "      <td>0.801666</td>\n",
       "      <td>0.799684</td>\n",
       "      <td>0.792357</td>\n",
       "      <td>0.007162</td>\n",
       "      <td>48</td>\n",
       "    </tr>\n",
       "    <tr>\n",
       "      <th>6</th>\n",
       "      <td>1.446185</td>\n",
       "      <td>0.004035</td>\n",
       "      <td>0.100919</td>\n",
       "      <td>0.003451</td>\n",
       "      <td>10</td>\n",
       "      <td>140</td>\n",
       "      <td>{'max_depth': 10, 'n_estimators': 140}</td>\n",
       "      <td>0.784958</td>\n",
       "      <td>0.796451</td>\n",
       "      <td>0.789570</td>\n",
       "      <td>0.800625</td>\n",
       "      <td>0.800842</td>\n",
       "      <td>0.794489</td>\n",
       "      <td>0.006275</td>\n",
       "      <td>44</td>\n",
       "    </tr>\n",
       "    <tr>\n",
       "      <th>7</th>\n",
       "      <td>1.700092</td>\n",
       "      <td>0.052019</td>\n",
       "      <td>0.113315</td>\n",
       "      <td>0.004626</td>\n",
       "      <td>10</td>\n",
       "      <td>160</td>\n",
       "      <td>{'max_depth': 10, 'n_estimators': 160}</td>\n",
       "      <td>0.786356</td>\n",
       "      <td>0.796863</td>\n",
       "      <td>0.792374</td>\n",
       "      <td>0.800832</td>\n",
       "      <td>0.800105</td>\n",
       "      <td>0.795306</td>\n",
       "      <td>0.005379</td>\n",
       "      <td>41</td>\n",
       "    </tr>\n",
       "    <tr>\n",
       "      <th>8</th>\n",
       "      <td>0.284467</td>\n",
       "      <td>0.030687</td>\n",
       "      <td>0.023866</td>\n",
       "      <td>0.004616</td>\n",
       "      <td>15</td>\n",
       "      <td>20</td>\n",
       "      <td>{'max_depth': 15, 'n_estimators': 20}</td>\n",
       "      <td>0.803590</td>\n",
       "      <td>0.806610</td>\n",
       "      <td>0.805242</td>\n",
       "      <td>0.808102</td>\n",
       "      <td>0.813935</td>\n",
       "      <td>0.807496</td>\n",
       "      <td>0.003548</td>\n",
       "      <td>21</td>\n",
       "    </tr>\n",
       "    <tr>\n",
       "      <th>9</th>\n",
       "      <td>0.551234</td>\n",
       "      <td>0.035777</td>\n",
       "      <td>0.041776</td>\n",
       "      <td>0.003470</td>\n",
       "      <td>15</td>\n",
       "      <td>40</td>\n",
       "      <td>{'max_depth': 15, 'n_estimators': 40}</td>\n",
       "      <td>0.800846</td>\n",
       "      <td>0.807210</td>\n",
       "      <td>0.805650</td>\n",
       "      <td>0.812598</td>\n",
       "      <td>0.811458</td>\n",
       "      <td>0.807552</td>\n",
       "      <td>0.004229</td>\n",
       "      <td>20</td>\n",
       "    </tr>\n",
       "    <tr>\n",
       "      <th>10</th>\n",
       "      <td>0.789473</td>\n",
       "      <td>0.012342</td>\n",
       "      <td>0.057012</td>\n",
       "      <td>0.004076</td>\n",
       "      <td>15</td>\n",
       "      <td>60</td>\n",
       "      <td>{'max_depth': 15, 'n_estimators': 60}</td>\n",
       "      <td>0.803383</td>\n",
       "      <td>0.813357</td>\n",
       "      <td>0.810107</td>\n",
       "      <td>0.812127</td>\n",
       "      <td>0.812026</td>\n",
       "      <td>0.810200</td>\n",
       "      <td>0.003564</td>\n",
       "      <td>8</td>\n",
       "    </tr>\n",
       "    <tr>\n",
       "      <th>11</th>\n",
       "      <td>1.057880</td>\n",
       "      <td>0.017414</td>\n",
       "      <td>0.081947</td>\n",
       "      <td>0.014660</td>\n",
       "      <td>15</td>\n",
       "      <td>80</td>\n",
       "      <td>{'max_depth': 15, 'n_estimators': 80}</td>\n",
       "      <td>0.803901</td>\n",
       "      <td>0.809660</td>\n",
       "      <td>0.807622</td>\n",
       "      <td>0.812015</td>\n",
       "      <td>0.813330</td>\n",
       "      <td>0.809305</td>\n",
       "      <td>0.003338</td>\n",
       "      <td>11</td>\n",
       "    </tr>\n",
       "    <tr>\n",
       "      <th>12</th>\n",
       "      <td>1.337882</td>\n",
       "      <td>0.032898</td>\n",
       "      <td>0.101643</td>\n",
       "      <td>0.020303</td>\n",
       "      <td>15</td>\n",
       "      <td>100</td>\n",
       "      <td>{'max_depth': 15, 'n_estimators': 100}</td>\n",
       "      <td>0.799788</td>\n",
       "      <td>0.808797</td>\n",
       "      <td>0.811685</td>\n",
       "      <td>0.813568</td>\n",
       "      <td>0.812435</td>\n",
       "      <td>0.809255</td>\n",
       "      <td>0.004989</td>\n",
       "      <td>12</td>\n",
       "    </tr>\n",
       "    <tr>\n",
       "      <th>13</th>\n",
       "      <td>1.566943</td>\n",
       "      <td>0.010932</td>\n",
       "      <td>0.113550</td>\n",
       "      <td>0.007879</td>\n",
       "      <td>15</td>\n",
       "      <td>120</td>\n",
       "      <td>{'max_depth': 15, 'n_estimators': 120}</td>\n",
       "      <td>0.802632</td>\n",
       "      <td>0.806024</td>\n",
       "      <td>0.811443</td>\n",
       "      <td>0.812257</td>\n",
       "      <td>0.816008</td>\n",
       "      <td>0.809673</td>\n",
       "      <td>0.004751</td>\n",
       "      <td>9</td>\n",
       "    </tr>\n",
       "    <tr>\n",
       "      <th>14</th>\n",
       "      <td>1.843096</td>\n",
       "      <td>0.028739</td>\n",
       "      <td>0.129523</td>\n",
       "      <td>0.004186</td>\n",
       "      <td>15</td>\n",
       "      <td>140</td>\n",
       "      <td>{'max_depth': 15, 'n_estimators': 140}</td>\n",
       "      <td>0.801795</td>\n",
       "      <td>0.809832</td>\n",
       "      <td>0.806477</td>\n",
       "      <td>0.814278</td>\n",
       "      <td>0.812288</td>\n",
       "      <td>0.808934</td>\n",
       "      <td>0.004419</td>\n",
       "      <td>13</td>\n",
       "    </tr>\n",
       "    <tr>\n",
       "      <th>15</th>\n",
       "      <td>2.092080</td>\n",
       "      <td>0.011823</td>\n",
       "      <td>0.148636</td>\n",
       "      <td>0.006509</td>\n",
       "      <td>15</td>\n",
       "      <td>160</td>\n",
       "      <td>{'max_depth': 15, 'n_estimators': 160}</td>\n",
       "      <td>0.799365</td>\n",
       "      <td>0.807573</td>\n",
       "      <td>0.807812</td>\n",
       "      <td>0.813893</td>\n",
       "      <td>0.813851</td>\n",
       "      <td>0.808499</td>\n",
       "      <td>0.005339</td>\n",
       "      <td>15</td>\n",
       "    </tr>\n",
       "    <tr>\n",
       "      <th>16</th>\n",
       "      <td>0.306986</td>\n",
       "      <td>0.010450</td>\n",
       "      <td>0.026739</td>\n",
       "      <td>0.005149</td>\n",
       "      <td>20</td>\n",
       "      <td>20</td>\n",
       "      <td>{'max_depth': 20, 'n_estimators': 20}</td>\n",
       "      <td>0.808789</td>\n",
       "      <td>0.804314</td>\n",
       "      <td>0.808700</td>\n",
       "      <td>0.814510</td>\n",
       "      <td>0.812015</td>\n",
       "      <td>0.809666</td>\n",
       "      <td>0.003444</td>\n",
       "      <td>10</td>\n",
       "    </tr>\n",
       "    <tr>\n",
       "      <th>17</th>\n",
       "      <td>0.604827</td>\n",
       "      <td>0.012017</td>\n",
       "      <td>0.049240</td>\n",
       "      <td>0.004858</td>\n",
       "      <td>20</td>\n",
       "      <td>40</td>\n",
       "      <td>{'max_depth': 20, 'n_estimators': 40}</td>\n",
       "      <td>0.806214</td>\n",
       "      <td>0.808577</td>\n",
       "      <td>0.811850</td>\n",
       "      <td>0.819077</td>\n",
       "      <td>0.815817</td>\n",
       "      <td>0.812307</td>\n",
       "      <td>0.004678</td>\n",
       "      <td>7</td>\n",
       "    </tr>\n",
       "    <tr>\n",
       "      <th>18</th>\n",
       "      <td>0.915081</td>\n",
       "      <td>0.010102</td>\n",
       "      <td>0.070864</td>\n",
       "      <td>0.005698</td>\n",
       "      <td>20</td>\n",
       "      <td>60</td>\n",
       "      <td>{'max_depth': 20, 'n_estimators': 60}</td>\n",
       "      <td>0.809636</td>\n",
       "      <td>0.810041</td>\n",
       "      <td>0.814371</td>\n",
       "      <td>0.818605</td>\n",
       "      <td>0.820818</td>\n",
       "      <td>0.814694</td>\n",
       "      <td>0.004475</td>\n",
       "      <td>4</td>\n",
       "    </tr>\n",
       "    <tr>\n",
       "      <th>19</th>\n",
       "      <td>1.290629</td>\n",
       "      <td>0.025739</td>\n",
       "      <td>0.089642</td>\n",
       "      <td>0.000932</td>\n",
       "      <td>20</td>\n",
       "      <td>80</td>\n",
       "      <td>{'max_depth': 20, 'n_estimators': 80}</td>\n",
       "      <td>0.810313</td>\n",
       "      <td>0.808258</td>\n",
       "      <td>0.813055</td>\n",
       "      <td>0.820961</td>\n",
       "      <td>0.816104</td>\n",
       "      <td>0.813738</td>\n",
       "      <td>0.004472</td>\n",
       "      <td>6</td>\n",
       "    </tr>\n",
       "    <tr>\n",
       "      <th>20</th>\n",
       "      <td>1.543500</td>\n",
       "      <td>0.026348</td>\n",
       "      <td>0.124778</td>\n",
       "      <td>0.023785</td>\n",
       "      <td>20</td>\n",
       "      <td>100</td>\n",
       "      <td>{'max_depth': 20, 'n_estimators': 100}</td>\n",
       "      <td>0.812893</td>\n",
       "      <td>0.812178</td>\n",
       "      <td>0.819383</td>\n",
       "      <td>0.822526</td>\n",
       "      <td>0.818750</td>\n",
       "      <td>0.817146</td>\n",
       "      <td>0.003982</td>\n",
       "      <td>1</td>\n",
       "    </tr>\n",
       "    <tr>\n",
       "      <th>21</th>\n",
       "      <td>1.820179</td>\n",
       "      <td>0.017985</td>\n",
       "      <td>0.131292</td>\n",
       "      <td>0.005813</td>\n",
       "      <td>20</td>\n",
       "      <td>120</td>\n",
       "      <td>{'max_depth': 20, 'n_estimators': 120}</td>\n",
       "      <td>0.811564</td>\n",
       "      <td>0.813498</td>\n",
       "      <td>0.813559</td>\n",
       "      <td>0.820830</td>\n",
       "      <td>0.818276</td>\n",
       "      <td>0.815546</td>\n",
       "      <td>0.003446</td>\n",
       "      <td>2</td>\n",
       "    </tr>\n",
       "    <tr>\n",
       "      <th>22</th>\n",
       "      <td>2.148001</td>\n",
       "      <td>0.026793</td>\n",
       "      <td>0.152544</td>\n",
       "      <td>0.007402</td>\n",
       "      <td>20</td>\n",
       "      <td>140</td>\n",
       "      <td>{'max_depth': 20, 'n_estimators': 140}</td>\n",
       "      <td>0.813435</td>\n",
       "      <td>0.811062</td>\n",
       "      <td>0.813365</td>\n",
       "      <td>0.820248</td>\n",
       "      <td>0.817803</td>\n",
       "      <td>0.815183</td>\n",
       "      <td>0.003343</td>\n",
       "      <td>3</td>\n",
       "    </tr>\n",
       "    <tr>\n",
       "      <th>23</th>\n",
       "      <td>2.487776</td>\n",
       "      <td>0.086511</td>\n",
       "      <td>0.172640</td>\n",
       "      <td>0.003319</td>\n",
       "      <td>20</td>\n",
       "      <td>160</td>\n",
       "      <td>{'max_depth': 20, 'n_estimators': 160}</td>\n",
       "      <td>0.809060</td>\n",
       "      <td>0.812274</td>\n",
       "      <td>0.815741</td>\n",
       "      <td>0.818865</td>\n",
       "      <td>0.817333</td>\n",
       "      <td>0.814655</td>\n",
       "      <td>0.003551</td>\n",
       "      <td>5</td>\n",
       "    </tr>\n",
       "    <tr>\n",
       "      <th>24</th>\n",
       "      <td>0.337667</td>\n",
       "      <td>0.009396</td>\n",
       "      <td>0.027902</td>\n",
       "      <td>0.001436</td>\n",
       "      <td>25</td>\n",
       "      <td>20</td>\n",
       "      <td>{'max_depth': 25, 'n_estimators': 20}</td>\n",
       "      <td>0.802628</td>\n",
       "      <td>0.797914</td>\n",
       "      <td>0.804269</td>\n",
       "      <td>0.808335</td>\n",
       "      <td>0.806367</td>\n",
       "      <td>0.803903</td>\n",
       "      <td>0.003559</td>\n",
       "      <td>32</td>\n",
       "    </tr>\n",
       "    <tr>\n",
       "      <th>25</th>\n",
       "      <td>0.673157</td>\n",
       "      <td>0.015875</td>\n",
       "      <td>0.051798</td>\n",
       "      <td>0.001880</td>\n",
       "      <td>25</td>\n",
       "      <td>40</td>\n",
       "      <td>{'max_depth': 25, 'n_estimators': 40}</td>\n",
       "      <td>0.799158</td>\n",
       "      <td>0.805808</td>\n",
       "      <td>0.811345</td>\n",
       "      <td>0.809943</td>\n",
       "      <td>0.810246</td>\n",
       "      <td>0.807300</td>\n",
       "      <td>0.004484</td>\n",
       "      <td>22</td>\n",
       "    </tr>\n",
       "    <tr>\n",
       "      <th>26</th>\n",
       "      <td>1.000962</td>\n",
       "      <td>0.004683</td>\n",
       "      <td>0.076707</td>\n",
       "      <td>0.003093</td>\n",
       "      <td>25</td>\n",
       "      <td>60</td>\n",
       "      <td>{'max_depth': 25, 'n_estimators': 60}</td>\n",
       "      <td>0.803906</td>\n",
       "      <td>0.806318</td>\n",
       "      <td>0.810557</td>\n",
       "      <td>0.808919</td>\n",
       "      <td>0.811291</td>\n",
       "      <td>0.808198</td>\n",
       "      <td>0.002742</td>\n",
       "      <td>16</td>\n",
       "    </tr>\n",
       "    <tr>\n",
       "      <th>27</th>\n",
       "      <td>1.317319</td>\n",
       "      <td>0.018884</td>\n",
       "      <td>0.097185</td>\n",
       "      <td>0.007965</td>\n",
       "      <td>25</td>\n",
       "      <td>80</td>\n",
       "      <td>{'max_depth': 25, 'n_estimators': 80}</td>\n",
       "      <td>0.802739</td>\n",
       "      <td>0.803326</td>\n",
       "      <td>0.813542</td>\n",
       "      <td>0.809610</td>\n",
       "      <td>0.811232</td>\n",
       "      <td>0.808090</td>\n",
       "      <td>0.004318</td>\n",
       "      <td>17</td>\n",
       "    </tr>\n",
       "    <tr>\n",
       "      <th>28</th>\n",
       "      <td>1.718381</td>\n",
       "      <td>0.067098</td>\n",
       "      <td>0.129332</td>\n",
       "      <td>0.028455</td>\n",
       "      <td>25</td>\n",
       "      <td>100</td>\n",
       "      <td>{'max_depth': 25, 'n_estimators': 100}</td>\n",
       "      <td>0.803999</td>\n",
       "      <td>0.805729</td>\n",
       "      <td>0.804700</td>\n",
       "      <td>0.814452</td>\n",
       "      <td>0.809387</td>\n",
       "      <td>0.807653</td>\n",
       "      <td>0.003873</td>\n",
       "      <td>19</td>\n",
       "    </tr>\n",
       "    <tr>\n",
       "      <th>29</th>\n",
       "      <td>1.989672</td>\n",
       "      <td>0.017864</td>\n",
       "      <td>0.139052</td>\n",
       "      <td>0.002494</td>\n",
       "      <td>25</td>\n",
       "      <td>120</td>\n",
       "      <td>{'max_depth': 25, 'n_estimators': 120}</td>\n",
       "      <td>0.805167</td>\n",
       "      <td>0.808599</td>\n",
       "      <td>0.809152</td>\n",
       "      <td>0.811257</td>\n",
       "      <td>0.809474</td>\n",
       "      <td>0.808730</td>\n",
       "      <td>0.001991</td>\n",
       "      <td>14</td>\n",
       "    </tr>\n",
       "    <tr>\n",
       "      <th>30</th>\n",
       "      <td>2.327516</td>\n",
       "      <td>0.012916</td>\n",
       "      <td>0.165834</td>\n",
       "      <td>0.009508</td>\n",
       "      <td>25</td>\n",
       "      <td>140</td>\n",
       "      <td>{'max_depth': 25, 'n_estimators': 140}</td>\n",
       "      <td>0.804859</td>\n",
       "      <td>0.801978</td>\n",
       "      <td>0.808466</td>\n",
       "      <td>0.814050</td>\n",
       "      <td>0.809698</td>\n",
       "      <td>0.807810</td>\n",
       "      <td>0.004139</td>\n",
       "      <td>18</td>\n",
       "    </tr>\n",
       "    <tr>\n",
       "      <th>31</th>\n",
       "      <td>2.648371</td>\n",
       "      <td>0.019628</td>\n",
       "      <td>0.185843</td>\n",
       "      <td>0.007558</td>\n",
       "      <td>25</td>\n",
       "      <td>160</td>\n",
       "      <td>{'max_depth': 25, 'n_estimators': 160}</td>\n",
       "      <td>0.801474</td>\n",
       "      <td>0.803952</td>\n",
       "      <td>0.808466</td>\n",
       "      <td>0.809794</td>\n",
       "      <td>0.809474</td>\n",
       "      <td>0.806632</td>\n",
       "      <td>0.003323</td>\n",
       "      <td>23</td>\n",
       "    </tr>\n",
       "    <tr>\n",
       "      <th>32</th>\n",
       "      <td>0.345781</td>\n",
       "      <td>0.009838</td>\n",
       "      <td>0.029666</td>\n",
       "      <td>0.000563</td>\n",
       "      <td>30</td>\n",
       "      <td>20</td>\n",
       "      <td>{'max_depth': 30, 'n_estimators': 20}</td>\n",
       "      <td>0.790587</td>\n",
       "      <td>0.797694</td>\n",
       "      <td>0.796521</td>\n",
       "      <td>0.797806</td>\n",
       "      <td>0.806511</td>\n",
       "      <td>0.797824</td>\n",
       "      <td>0.005090</td>\n",
       "      <td>39</td>\n",
       "    </tr>\n",
       "    <tr>\n",
       "      <th>33</th>\n",
       "      <td>0.685730</td>\n",
       "      <td>0.014110</td>\n",
       "      <td>0.054425</td>\n",
       "      <td>0.003938</td>\n",
       "      <td>30</td>\n",
       "      <td>40</td>\n",
       "      <td>{'max_depth': 30, 'n_estimators': 40}</td>\n",
       "      <td>0.795784</td>\n",
       "      <td>0.794218</td>\n",
       "      <td>0.804827</td>\n",
       "      <td>0.807981</td>\n",
       "      <td>0.802304</td>\n",
       "      <td>0.801023</td>\n",
       "      <td>0.005259</td>\n",
       "      <td>38</td>\n",
       "    </tr>\n",
       "    <tr>\n",
       "      <th>34</th>\n",
       "      <td>1.026619</td>\n",
       "      <td>0.020301</td>\n",
       "      <td>0.076739</td>\n",
       "      <td>0.004337</td>\n",
       "      <td>30</td>\n",
       "      <td>60</td>\n",
       "      <td>{'max_depth': 30, 'n_estimators': 60}</td>\n",
       "      <td>0.798633</td>\n",
       "      <td>0.797597</td>\n",
       "      <td>0.804999</td>\n",
       "      <td>0.802075</td>\n",
       "      <td>0.805425</td>\n",
       "      <td>0.801746</td>\n",
       "      <td>0.003198</td>\n",
       "      <td>37</td>\n",
       "    </tr>\n",
       "    <tr>\n",
       "      <th>35</th>\n",
       "      <td>1.376366</td>\n",
       "      <td>0.026576</td>\n",
       "      <td>0.105254</td>\n",
       "      <td>0.005373</td>\n",
       "      <td>30</td>\n",
       "      <td>80</td>\n",
       "      <td>{'max_depth': 30, 'n_estimators': 80}</td>\n",
       "      <td>0.800211</td>\n",
       "      <td>0.798225</td>\n",
       "      <td>0.812288</td>\n",
       "      <td>0.807961</td>\n",
       "      <td>0.808466</td>\n",
       "      <td>0.805430</td>\n",
       "      <td>0.005326</td>\n",
       "      <td>26</td>\n",
       "    </tr>\n",
       "    <tr>\n",
       "      <th>36</th>\n",
       "      <td>1.774384</td>\n",
       "      <td>0.057165</td>\n",
       "      <td>0.141117</td>\n",
       "      <td>0.018049</td>\n",
       "      <td>30</td>\n",
       "      <td>100</td>\n",
       "      <td>{'max_depth': 30, 'n_estimators': 100}</td>\n",
       "      <td>0.798736</td>\n",
       "      <td>0.796668</td>\n",
       "      <td>0.806173</td>\n",
       "      <td>0.806535</td>\n",
       "      <td>0.809598</td>\n",
       "      <td>0.803542</td>\n",
       "      <td>0.004958</td>\n",
       "      <td>33</td>\n",
       "    </tr>\n",
       "    <tr>\n",
       "      <th>37</th>\n",
       "      <td>2.142035</td>\n",
       "      <td>0.212794</td>\n",
       "      <td>0.148366</td>\n",
       "      <td>0.005123</td>\n",
       "      <td>30</td>\n",
       "      <td>120</td>\n",
       "      <td>{'max_depth': 30, 'n_estimators': 120}</td>\n",
       "      <td>0.801265</td>\n",
       "      <td>0.801666</td>\n",
       "      <td>0.811065</td>\n",
       "      <td>0.809389</td>\n",
       "      <td>0.808555</td>\n",
       "      <td>0.806388</td>\n",
       "      <td>0.004102</td>\n",
       "      <td>24</td>\n",
       "    </tr>\n",
       "    <tr>\n",
       "      <th>38</th>\n",
       "      <td>2.384818</td>\n",
       "      <td>0.014581</td>\n",
       "      <td>0.166528</td>\n",
       "      <td>0.004802</td>\n",
       "      <td>30</td>\n",
       "      <td>140</td>\n",
       "      <td>{'max_depth': 30, 'n_estimators': 140}</td>\n",
       "      <td>0.804097</td>\n",
       "      <td>0.797185</td>\n",
       "      <td>0.810219</td>\n",
       "      <td>0.806210</td>\n",
       "      <td>0.807592</td>\n",
       "      <td>0.805060</td>\n",
       "      <td>0.004411</td>\n",
       "      <td>28</td>\n",
       "    </tr>\n",
       "    <tr>\n",
       "      <th>39</th>\n",
       "      <td>2.718930</td>\n",
       "      <td>0.055886</td>\n",
       "      <td>0.194236</td>\n",
       "      <td>0.005665</td>\n",
       "      <td>30</td>\n",
       "      <td>160</td>\n",
       "      <td>{'max_depth': 30, 'n_estimators': 160}</td>\n",
       "      <td>0.801996</td>\n",
       "      <td>0.801457</td>\n",
       "      <td>0.808965</td>\n",
       "      <td>0.807245</td>\n",
       "      <td>0.809276</td>\n",
       "      <td>0.805788</td>\n",
       "      <td>0.003392</td>\n",
       "      <td>25</td>\n",
       "    </tr>\n",
       "    <tr>\n",
       "      <th>40</th>\n",
       "      <td>0.349012</td>\n",
       "      <td>0.016187</td>\n",
       "      <td>0.028587</td>\n",
       "      <td>0.003331</td>\n",
       "      <td>40</td>\n",
       "      <td>20</td>\n",
       "      <td>{'max_depth': 40, 'n_estimators': 20}</td>\n",
       "      <td>0.790391</td>\n",
       "      <td>0.795988</td>\n",
       "      <td>0.794838</td>\n",
       "      <td>0.802920</td>\n",
       "      <td>0.799473</td>\n",
       "      <td>0.796722</td>\n",
       "      <td>0.004246</td>\n",
       "      <td>40</td>\n",
       "    </tr>\n",
       "    <tr>\n",
       "      <th>41</th>\n",
       "      <td>0.688932</td>\n",
       "      <td>0.007362</td>\n",
       "      <td>0.052916</td>\n",
       "      <td>0.003538</td>\n",
       "      <td>40</td>\n",
       "      <td>40</td>\n",
       "      <td>{'max_depth': 40, 'n_estimators': 40}</td>\n",
       "      <td>0.798732</td>\n",
       "      <td>0.801465</td>\n",
       "      <td>0.809710</td>\n",
       "      <td>0.806862</td>\n",
       "      <td>0.807933</td>\n",
       "      <td>0.804941</td>\n",
       "      <td>0.004148</td>\n",
       "      <td>30</td>\n",
       "    </tr>\n",
       "    <tr>\n",
       "      <th>42</th>\n",
       "      <td>1.275554</td>\n",
       "      <td>0.188077</td>\n",
       "      <td>0.093866</td>\n",
       "      <td>0.021764</td>\n",
       "      <td>40</td>\n",
       "      <td>60</td>\n",
       "      <td>{'max_depth': 40, 'n_estimators': 60}</td>\n",
       "      <td>0.799684</td>\n",
       "      <td>0.798225</td>\n",
       "      <td>0.804081</td>\n",
       "      <td>0.803507</td>\n",
       "      <td>0.806587</td>\n",
       "      <td>0.802417</td>\n",
       "      <td>0.003046</td>\n",
       "      <td>35</td>\n",
       "    </tr>\n",
       "    <tr>\n",
       "      <th>43</th>\n",
       "      <td>1.368212</td>\n",
       "      <td>0.014388</td>\n",
       "      <td>0.098002</td>\n",
       "      <td>0.006946</td>\n",
       "      <td>40</td>\n",
       "      <td>80</td>\n",
       "      <td>{'max_depth': 40, 'n_estimators': 80}</td>\n",
       "      <td>0.797262</td>\n",
       "      <td>0.796646</td>\n",
       "      <td>0.805331</td>\n",
       "      <td>0.808675</td>\n",
       "      <td>0.801882</td>\n",
       "      <td>0.801959</td>\n",
       "      <td>0.004621</td>\n",
       "      <td>36</td>\n",
       "    </tr>\n",
       "    <tr>\n",
       "      <th>44</th>\n",
       "      <td>1.789958</td>\n",
       "      <td>0.034065</td>\n",
       "      <td>0.126605</td>\n",
       "      <td>0.004837</td>\n",
       "      <td>40</td>\n",
       "      <td>100</td>\n",
       "      <td>{'max_depth': 40, 'n_estimators': 100}</td>\n",
       "      <td>0.797052</td>\n",
       "      <td>0.800104</td>\n",
       "      <td>0.810839</td>\n",
       "      <td>0.807154</td>\n",
       "      <td>0.810034</td>\n",
       "      <td>0.805037</td>\n",
       "      <td>0.005499</td>\n",
       "      <td>29</td>\n",
       "    </tr>\n",
       "    <tr>\n",
       "      <th>45</th>\n",
       "      <td>2.132144</td>\n",
       "      <td>0.080121</td>\n",
       "      <td>0.141828</td>\n",
       "      <td>0.006185</td>\n",
       "      <td>40</td>\n",
       "      <td>120</td>\n",
       "      <td>{'max_depth': 40, 'n_estimators': 120}</td>\n",
       "      <td>0.800316</td>\n",
       "      <td>0.800624</td>\n",
       "      <td>0.810146</td>\n",
       "      <td>0.805584</td>\n",
       "      <td>0.805846</td>\n",
       "      <td>0.804503</td>\n",
       "      <td>0.003672</td>\n",
       "      <td>31</td>\n",
       "    </tr>\n",
       "    <tr>\n",
       "      <th>46</th>\n",
       "      <td>2.414436</td>\n",
       "      <td>0.032746</td>\n",
       "      <td>0.170128</td>\n",
       "      <td>0.008513</td>\n",
       "      <td>40</td>\n",
       "      <td>140</td>\n",
       "      <td>{'max_depth': 40, 'n_estimators': 140}</td>\n",
       "      <td>0.801579</td>\n",
       "      <td>0.800731</td>\n",
       "      <td>0.808666</td>\n",
       "      <td>0.806909</td>\n",
       "      <td>0.808444</td>\n",
       "      <td>0.805266</td>\n",
       "      <td>0.003421</td>\n",
       "      <td>27</td>\n",
       "    </tr>\n",
       "    <tr>\n",
       "      <th>47</th>\n",
       "      <td>2.748731</td>\n",
       "      <td>0.027242</td>\n",
       "      <td>0.191324</td>\n",
       "      <td>0.003357</td>\n",
       "      <td>40</td>\n",
       "      <td>160</td>\n",
       "      <td>{'max_depth': 40, 'n_estimators': 160}</td>\n",
       "      <td>0.797998</td>\n",
       "      <td>0.797086</td>\n",
       "      <td>0.807072</td>\n",
       "      <td>0.806009</td>\n",
       "      <td>0.806048</td>\n",
       "      <td>0.802843</td>\n",
       "      <td>0.004354</td>\n",
       "      <td>34</td>\n",
       "    </tr>\n",
       "  </tbody>\n",
       "</table>\n",
       "</div>"
      ],
      "text/plain": [
       "    mean_fit_time  std_fit_time  mean_score_time  std_score_time  \\\n",
       "0        0.227407      0.019231         0.018388        0.004327   \n",
       "1        0.458723      0.018214         0.035135        0.001523   \n",
       "2        0.632625      0.006444         0.051478        0.003396   \n",
       "3        0.842669      0.021775         0.060698        0.001703   \n",
       "4        1.051601      0.016299         0.074176        0.005177   \n",
       "5        1.273510      0.046924         0.091933        0.009932   \n",
       "6        1.446185      0.004035         0.100919        0.003451   \n",
       "7        1.700092      0.052019         0.113315        0.004626   \n",
       "8        0.284467      0.030687         0.023866        0.004616   \n",
       "9        0.551234      0.035777         0.041776        0.003470   \n",
       "10       0.789473      0.012342         0.057012        0.004076   \n",
       "11       1.057880      0.017414         0.081947        0.014660   \n",
       "12       1.337882      0.032898         0.101643        0.020303   \n",
       "13       1.566943      0.010932         0.113550        0.007879   \n",
       "14       1.843096      0.028739         0.129523        0.004186   \n",
       "15       2.092080      0.011823         0.148636        0.006509   \n",
       "16       0.306986      0.010450         0.026739        0.005149   \n",
       "17       0.604827      0.012017         0.049240        0.004858   \n",
       "18       0.915081      0.010102         0.070864        0.005698   \n",
       "19       1.290629      0.025739         0.089642        0.000932   \n",
       "20       1.543500      0.026348         0.124778        0.023785   \n",
       "21       1.820179      0.017985         0.131292        0.005813   \n",
       "22       2.148001      0.026793         0.152544        0.007402   \n",
       "23       2.487776      0.086511         0.172640        0.003319   \n",
       "24       0.337667      0.009396         0.027902        0.001436   \n",
       "25       0.673157      0.015875         0.051798        0.001880   \n",
       "26       1.000962      0.004683         0.076707        0.003093   \n",
       "27       1.317319      0.018884         0.097185        0.007965   \n",
       "28       1.718381      0.067098         0.129332        0.028455   \n",
       "29       1.989672      0.017864         0.139052        0.002494   \n",
       "30       2.327516      0.012916         0.165834        0.009508   \n",
       "31       2.648371      0.019628         0.185843        0.007558   \n",
       "32       0.345781      0.009838         0.029666        0.000563   \n",
       "33       0.685730      0.014110         0.054425        0.003938   \n",
       "34       1.026619      0.020301         0.076739        0.004337   \n",
       "35       1.376366      0.026576         0.105254        0.005373   \n",
       "36       1.774384      0.057165         0.141117        0.018049   \n",
       "37       2.142035      0.212794         0.148366        0.005123   \n",
       "38       2.384818      0.014581         0.166528        0.004802   \n",
       "39       2.718930      0.055886         0.194236        0.005665   \n",
       "40       0.349012      0.016187         0.028587        0.003331   \n",
       "41       0.688932      0.007362         0.052916        0.003538   \n",
       "42       1.275554      0.188077         0.093866        0.021764   \n",
       "43       1.368212      0.014388         0.098002        0.006946   \n",
       "44       1.789958      0.034065         0.126605        0.004837   \n",
       "45       2.132144      0.080121         0.141828        0.006185   \n",
       "46       2.414436      0.032746         0.170128        0.008513   \n",
       "47       2.748731      0.027242         0.191324        0.003357   \n",
       "\n",
       "   param_max_depth param_n_estimators                                  params  \\\n",
       "0               10                 20   {'max_depth': 10, 'n_estimators': 20}   \n",
       "1               10                 40   {'max_depth': 10, 'n_estimators': 40}   \n",
       "2               10                 60   {'max_depth': 10, 'n_estimators': 60}   \n",
       "3               10                 80   {'max_depth': 10, 'n_estimators': 80}   \n",
       "4               10                100  {'max_depth': 10, 'n_estimators': 100}   \n",
       "5               10                120  {'max_depth': 10, 'n_estimators': 120}   \n",
       "6               10                140  {'max_depth': 10, 'n_estimators': 140}   \n",
       "7               10                160  {'max_depth': 10, 'n_estimators': 160}   \n",
       "8               15                 20   {'max_depth': 15, 'n_estimators': 20}   \n",
       "9               15                 40   {'max_depth': 15, 'n_estimators': 40}   \n",
       "10              15                 60   {'max_depth': 15, 'n_estimators': 60}   \n",
       "11              15                 80   {'max_depth': 15, 'n_estimators': 80}   \n",
       "12              15                100  {'max_depth': 15, 'n_estimators': 100}   \n",
       "13              15                120  {'max_depth': 15, 'n_estimators': 120}   \n",
       "14              15                140  {'max_depth': 15, 'n_estimators': 140}   \n",
       "15              15                160  {'max_depth': 15, 'n_estimators': 160}   \n",
       "16              20                 20   {'max_depth': 20, 'n_estimators': 20}   \n",
       "17              20                 40   {'max_depth': 20, 'n_estimators': 40}   \n",
       "18              20                 60   {'max_depth': 20, 'n_estimators': 60}   \n",
       "19              20                 80   {'max_depth': 20, 'n_estimators': 80}   \n",
       "20              20                100  {'max_depth': 20, 'n_estimators': 100}   \n",
       "21              20                120  {'max_depth': 20, 'n_estimators': 120}   \n",
       "22              20                140  {'max_depth': 20, 'n_estimators': 140}   \n",
       "23              20                160  {'max_depth': 20, 'n_estimators': 160}   \n",
       "24              25                 20   {'max_depth': 25, 'n_estimators': 20}   \n",
       "25              25                 40   {'max_depth': 25, 'n_estimators': 40}   \n",
       "26              25                 60   {'max_depth': 25, 'n_estimators': 60}   \n",
       "27              25                 80   {'max_depth': 25, 'n_estimators': 80}   \n",
       "28              25                100  {'max_depth': 25, 'n_estimators': 100}   \n",
       "29              25                120  {'max_depth': 25, 'n_estimators': 120}   \n",
       "30              25                140  {'max_depth': 25, 'n_estimators': 140}   \n",
       "31              25                160  {'max_depth': 25, 'n_estimators': 160}   \n",
       "32              30                 20   {'max_depth': 30, 'n_estimators': 20}   \n",
       "33              30                 40   {'max_depth': 30, 'n_estimators': 40}   \n",
       "34              30                 60   {'max_depth': 30, 'n_estimators': 60}   \n",
       "35              30                 80   {'max_depth': 30, 'n_estimators': 80}   \n",
       "36              30                100  {'max_depth': 30, 'n_estimators': 100}   \n",
       "37              30                120  {'max_depth': 30, 'n_estimators': 120}   \n",
       "38              30                140  {'max_depth': 30, 'n_estimators': 140}   \n",
       "39              30                160  {'max_depth': 30, 'n_estimators': 160}   \n",
       "40              40                 20   {'max_depth': 40, 'n_estimators': 20}   \n",
       "41              40                 40   {'max_depth': 40, 'n_estimators': 40}   \n",
       "42              40                 60   {'max_depth': 40, 'n_estimators': 60}   \n",
       "43              40                 80   {'max_depth': 40, 'n_estimators': 80}   \n",
       "44              40                100  {'max_depth': 40, 'n_estimators': 100}   \n",
       "45              40                120  {'max_depth': 40, 'n_estimators': 120}   \n",
       "46              40                140  {'max_depth': 40, 'n_estimators': 140}   \n",
       "47              40                160  {'max_depth': 40, 'n_estimators': 160}   \n",
       "\n",
       "    split0_test_score  split1_test_score  split2_test_score  \\\n",
       "0            0.786684           0.796248           0.787576   \n",
       "1            0.785543           0.794499           0.791981   \n",
       "2            0.784664           0.793220           0.789446   \n",
       "3            0.786038           0.795131           0.790916   \n",
       "4            0.786981           0.793933           0.790175   \n",
       "5            0.783511           0.790407           0.786517   \n",
       "6            0.784958           0.796451           0.789570   \n",
       "7            0.786356           0.796863           0.792374   \n",
       "8            0.803590           0.806610           0.805242   \n",
       "9            0.800846           0.807210           0.805650   \n",
       "10           0.803383           0.813357           0.810107   \n",
       "11           0.803901           0.809660           0.807622   \n",
       "12           0.799788           0.808797           0.811685   \n",
       "13           0.802632           0.806024           0.811443   \n",
       "14           0.801795           0.809832           0.806477   \n",
       "15           0.799365           0.807573           0.807812   \n",
       "16           0.808789           0.804314           0.808700   \n",
       "17           0.806214           0.808577           0.811850   \n",
       "18           0.809636           0.810041           0.814371   \n",
       "19           0.810313           0.808258           0.813055   \n",
       "20           0.812893           0.812178           0.819383   \n",
       "21           0.811564           0.813498           0.813559   \n",
       "22           0.813435           0.811062           0.813365   \n",
       "23           0.809060           0.812274           0.815741   \n",
       "24           0.802628           0.797914           0.804269   \n",
       "25           0.799158           0.805808           0.811345   \n",
       "26           0.803906           0.806318           0.810557   \n",
       "27           0.802739           0.803326           0.813542   \n",
       "28           0.803999           0.805729           0.804700   \n",
       "29           0.805167           0.808599           0.809152   \n",
       "30           0.804859           0.801978           0.808466   \n",
       "31           0.801474           0.803952           0.808466   \n",
       "32           0.790587           0.797694           0.796521   \n",
       "33           0.795784           0.794218           0.804827   \n",
       "34           0.798633           0.797597           0.804999   \n",
       "35           0.800211           0.798225           0.812288   \n",
       "36           0.798736           0.796668           0.806173   \n",
       "37           0.801265           0.801666           0.811065   \n",
       "38           0.804097           0.797185           0.810219   \n",
       "39           0.801996           0.801457           0.808965   \n",
       "40           0.790391           0.795988           0.794838   \n",
       "41           0.798732           0.801465           0.809710   \n",
       "42           0.799684           0.798225           0.804081   \n",
       "43           0.797262           0.796646           0.805331   \n",
       "44           0.797052           0.800104           0.810839   \n",
       "45           0.800316           0.800624           0.810146   \n",
       "46           0.801579           0.800731           0.808666   \n",
       "47           0.797998           0.797086           0.807072   \n",
       "\n",
       "    split3_test_score  split4_test_score  mean_test_score  std_test_score  \\\n",
       "0            0.798855           0.795902         0.793053        0.004951   \n",
       "1            0.800930           0.800000         0.794591        0.005623   \n",
       "2            0.800104           0.797162         0.792919        0.005476   \n",
       "3            0.803952           0.798837         0.794975        0.006195   \n",
       "4            0.800519           0.796199         0.793561        0.004696   \n",
       "5            0.801666           0.799684         0.792357        0.007162   \n",
       "6            0.800625           0.800842         0.794489        0.006275   \n",
       "7            0.800832           0.800105         0.795306        0.005379   \n",
       "8            0.808102           0.813935         0.807496        0.003548   \n",
       "9            0.812598           0.811458         0.807552        0.004229   \n",
       "10           0.812127           0.812026         0.810200        0.003564   \n",
       "11           0.812015           0.813330         0.809305        0.003338   \n",
       "12           0.813568           0.812435         0.809255        0.004989   \n",
       "13           0.812257           0.816008         0.809673        0.004751   \n",
       "14           0.814278           0.812288         0.808934        0.004419   \n",
       "15           0.813893           0.813851         0.808499        0.005339   \n",
       "16           0.814510           0.812015         0.809666        0.003444   \n",
       "17           0.819077           0.815817         0.812307        0.004678   \n",
       "18           0.818605           0.820818         0.814694        0.004475   \n",
       "19           0.820961           0.816104         0.813738        0.004472   \n",
       "20           0.822526           0.818750         0.817146        0.003982   \n",
       "21           0.820830           0.818276         0.815546        0.003446   \n",
       "22           0.820248           0.817803         0.815183        0.003343   \n",
       "23           0.818865           0.817333         0.814655        0.003551   \n",
       "24           0.808335           0.806367         0.803903        0.003559   \n",
       "25           0.809943           0.810246         0.807300        0.004484   \n",
       "26           0.808919           0.811291         0.808198        0.002742   \n",
       "27           0.809610           0.811232         0.808090        0.004318   \n",
       "28           0.814452           0.809387         0.807653        0.003873   \n",
       "29           0.811257           0.809474         0.808730        0.001991   \n",
       "30           0.814050           0.809698         0.807810        0.004139   \n",
       "31           0.809794           0.809474         0.806632        0.003323   \n",
       "32           0.797806           0.806511         0.797824        0.005090   \n",
       "33           0.807981           0.802304         0.801023        0.005259   \n",
       "34           0.802075           0.805425         0.801746        0.003198   \n",
       "35           0.807961           0.808466         0.805430        0.005326   \n",
       "36           0.806535           0.809598         0.803542        0.004958   \n",
       "37           0.809389           0.808555         0.806388        0.004102   \n",
       "38           0.806210           0.807592         0.805060        0.004411   \n",
       "39           0.807245           0.809276         0.805788        0.003392   \n",
       "40           0.802920           0.799473         0.796722        0.004246   \n",
       "41           0.806862           0.807933         0.804941        0.004148   \n",
       "42           0.803507           0.806587         0.802417        0.003046   \n",
       "43           0.808675           0.801882         0.801959        0.004621   \n",
       "44           0.807154           0.810034         0.805037        0.005499   \n",
       "45           0.805584           0.805846         0.804503        0.003672   \n",
       "46           0.806909           0.808444         0.805266        0.003421   \n",
       "47           0.806009           0.806048         0.802843        0.004354   \n",
       "\n",
       "    rank_test_score  \n",
       "0                46  \n",
       "1                43  \n",
       "2                47  \n",
       "3                42  \n",
       "4                45  \n",
       "5                48  \n",
       "6                44  \n",
       "7                41  \n",
       "8                21  \n",
       "9                20  \n",
       "10                8  \n",
       "11               11  \n",
       "12               12  \n",
       "13                9  \n",
       "14               13  \n",
       "15               15  \n",
       "16               10  \n",
       "17                7  \n",
       "18                4  \n",
       "19                6  \n",
       "20                1  \n",
       "21                2  \n",
       "22                3  \n",
       "23                5  \n",
       "24               32  \n",
       "25               22  \n",
       "26               16  \n",
       "27               17  \n",
       "28               19  \n",
       "29               14  \n",
       "30               18  \n",
       "31               23  \n",
       "32               39  \n",
       "33               38  \n",
       "34               37  \n",
       "35               26  \n",
       "36               33  \n",
       "37               24  \n",
       "38               28  \n",
       "39               25  \n",
       "40               40  \n",
       "41               30  \n",
       "42               35  \n",
       "43               36  \n",
       "44               29  \n",
       "45               31  \n",
       "46               27  \n",
       "47               34  "
      ]
     },
     "execution_count": 115,
     "metadata": {},
     "output_type": "execute_result"
    }
   ],
   "source": [
    "res"
   ]
  },
  {
   "cell_type": "code",
   "execution_count": 108,
   "metadata": {},
   "outputs": [],
   "source": [
    "final_mod=RandomForestClassifier(**tun_mod.best_params_)"
   ]
  },
  {
   "cell_type": "code",
   "execution_count": 104,
   "metadata": {},
   "outputs": [
    {
     "data": {
      "text/plain": [
       "RandomForestClassifier(bootstrap=True, ccp_alpha=0.0, class_weight=None,\n",
       "                       criterion='gini', max_depth=20, max_features='auto',\n",
       "                       max_leaf_nodes=None, max_samples=None,\n",
       "                       min_impurity_decrease=0.0, min_impurity_split=None,\n",
       "                       min_samples_leaf=1, min_samples_split=2,\n",
       "                       min_weight_fraction_leaf=0.0, n_estimators=100,\n",
       "                       n_jobs=None, oob_score=False, random_state=None,\n",
       "                       verbose=0, warm_start=False)"
      ]
     },
     "execution_count": 104,
     "metadata": {},
     "output_type": "execute_result"
    }
   ],
   "source": [
    "final_mod.fit(xtrain,ytrain)"
   ]
  },
  {
   "cell_type": "code",
   "execution_count": 106,
   "metadata": {},
   "outputs": [],
   "source": [
    "ypred1=final_mod.predict(xtest)\n",
    "ypred1_train=final_mod.predict(xtrain)"
   ]
  },
  {
   "cell_type": "code",
   "execution_count": 107,
   "metadata": {},
   "outputs": [
    {
     "name": "stdout",
     "output_type": "stream",
     "text": [
      "              precision    recall  f1-score   support\n",
      "\n",
      "         0.0       0.87      0.90      0.88      6016\n",
      "         1.0       0.85      0.80      0.82      4184\n",
      "\n",
      "    accuracy                           0.86     10200\n",
      "   macro avg       0.86      0.85      0.85     10200\n",
      "weighted avg       0.86      0.86      0.86     10200\n",
      "\n"
     ]
    }
   ],
   "source": [
    "print(classification_report(ytest,ypred1))\n",
    "#Has imporved further now."
   ]
  },
  {
   "cell_type": "code",
   "execution_count": 109,
   "metadata": {},
   "outputs": [
    {
     "name": "stdout",
     "output_type": "stream",
     "text": [
      "0.8233392206371681 0.007118398771231839\n"
     ]
    }
   ],
   "source": [
    "score = cross_val_score(final_mod, inp_bal, out_bal, cv=kf, scoring='f1')\n",
    "print(np.mean(score),np.std(score)/np.mean(score))"
   ]
  }
 ],
 "metadata": {
  "kernelspec": {
   "display_name": "Python 3",
   "language": "python",
   "name": "python3"
  },
  "language_info": {
   "codemirror_mode": {
    "name": "ipython",
    "version": 3
   },
   "file_extension": ".py",
   "mimetype": "text/x-python",
   "name": "python",
   "nbconvert_exporter": "python",
   "pygments_lexer": "ipython3",
   "version": "3.7.6"
  }
 },
 "nbformat": 4,
 "nbformat_minor": 4
}
